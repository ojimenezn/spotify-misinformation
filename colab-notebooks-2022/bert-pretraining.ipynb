{
  "nbformat": 4,
  "nbformat_minor": 0,
  "metadata": {
    "colab": {
      "name": "bert-pretraining.ipynb",
      "provenance": [],
      "machine_shape": "hm"
    },
    "kernelspec": {
      "name": "python3",
      "display_name": "Python 3"
    },
    "language_info": {
      "name": "python"
    },
    "accelerator": "GPU",
    "widgets": {
      "application/vnd.jupyter.widget-state+json": {
        "ce641d4330e440fb9229b4db41ee8252": {
          "model_module": "@jupyter-widgets/controls",
          "model_name": "HBoxModel",
          "model_module_version": "1.5.0",
          "state": {
            "_dom_classes": [],
            "_model_module": "@jupyter-widgets/controls",
            "_model_module_version": "1.5.0",
            "_model_name": "HBoxModel",
            "_view_count": null,
            "_view_module": "@jupyter-widgets/controls",
            "_view_module_version": "1.5.0",
            "_view_name": "HBoxView",
            "box_style": "",
            "children": [
              "IPY_MODEL_403af7269e6c448996bda28478112095",
              "IPY_MODEL_b9ce622dcc344917bb775accd37163d9"
            ],
            "layout": "IPY_MODEL_4201cccc91684579861149349ab836c0"
          }
        },
        "403af7269e6c448996bda28478112095": {
          "model_module": "@jupyter-widgets/controls",
          "model_name": "FloatProgressModel",
          "model_module_version": "1.5.0",
          "state": {
            "_dom_classes": [],
            "_model_module": "@jupyter-widgets/controls",
            "_model_module_version": "1.5.0",
            "_model_name": "FloatProgressModel",
            "_view_count": null,
            "_view_module": "@jupyter-widgets/controls",
            "_view_module_version": "1.5.0",
            "_view_name": "ProgressView",
            "bar_style": "info",
            "description": "",
            "description_tooltip": null,
            "layout": "IPY_MODEL_3b7a6f22ec69427493d28441496a811a",
            "max": 1,
            "min": 0,
            "orientation": "horizontal",
            "style": "IPY_MODEL_bbbad1f663534466887d75dd78c01868",
            "value": 1
          }
        },
        "b9ce622dcc344917bb775accd37163d9": {
          "model_module": "@jupyter-widgets/controls",
          "model_name": "HTMLModel",
          "model_module_version": "1.5.0",
          "state": {
            "_dom_classes": [],
            "_model_module": "@jupyter-widgets/controls",
            "_model_module_version": "1.5.0",
            "_model_name": "HTMLModel",
            "_view_count": null,
            "_view_module": "@jupyter-widgets/controls",
            "_view_module_version": "1.5.0",
            "_view_name": "HTMLView",
            "description": "",
            "description_tooltip": null,
            "layout": "IPY_MODEL_f4a8b7fa78b541f79fe7fe8054e716c9",
            "placeholder": "​",
            "style": "IPY_MODEL_e6f53c47947a40d2854487d8e8c0b109",
            "value": "89 tables [00:05, 15.80 tables/s]"
          }
        },
        "4201cccc91684579861149349ab836c0": {
          "model_module": "@jupyter-widgets/base",
          "model_name": "LayoutModel",
          "model_module_version": "1.2.0",
          "state": {
            "_model_module": "@jupyter-widgets/base",
            "_model_module_version": "1.2.0",
            "_model_name": "LayoutModel",
            "_view_count": null,
            "_view_module": "@jupyter-widgets/base",
            "_view_module_version": "1.2.0",
            "_view_name": "LayoutView",
            "align_content": null,
            "align_items": null,
            "align_self": null,
            "border": null,
            "bottom": null,
            "display": null,
            "flex": null,
            "flex_flow": null,
            "grid_area": null,
            "grid_auto_columns": null,
            "grid_auto_flow": null,
            "grid_auto_rows": null,
            "grid_column": null,
            "grid_gap": null,
            "grid_row": null,
            "grid_template_areas": null,
            "grid_template_columns": null,
            "grid_template_rows": null,
            "height": null,
            "justify_content": null,
            "justify_items": null,
            "left": null,
            "margin": null,
            "max_height": null,
            "max_width": null,
            "min_height": null,
            "min_width": null,
            "object_fit": null,
            "object_position": null,
            "order": null,
            "overflow": null,
            "overflow_x": null,
            "overflow_y": null,
            "padding": null,
            "right": null,
            "top": null,
            "visibility": null,
            "width": null
          }
        },
        "3b7a6f22ec69427493d28441496a811a": {
          "model_module": "@jupyter-widgets/base",
          "model_name": "LayoutModel",
          "model_module_version": "1.2.0",
          "state": {
            "_model_module": "@jupyter-widgets/base",
            "_model_module_version": "1.2.0",
            "_model_name": "LayoutModel",
            "_view_count": null,
            "_view_module": "@jupyter-widgets/base",
            "_view_module_version": "1.2.0",
            "_view_name": "LayoutView",
            "align_content": null,
            "align_items": null,
            "align_self": null,
            "border": null,
            "bottom": null,
            "display": null,
            "flex": null,
            "flex_flow": null,
            "grid_area": null,
            "grid_auto_columns": null,
            "grid_auto_flow": null,
            "grid_auto_rows": null,
            "grid_column": null,
            "grid_gap": null,
            "grid_row": null,
            "grid_template_areas": null,
            "grid_template_columns": null,
            "grid_template_rows": null,
            "height": null,
            "justify_content": null,
            "justify_items": null,
            "left": null,
            "margin": null,
            "max_height": null,
            "max_width": null,
            "min_height": null,
            "min_width": null,
            "object_fit": null,
            "object_position": null,
            "order": null,
            "overflow": null,
            "overflow_x": null,
            "overflow_y": null,
            "padding": null,
            "right": null,
            "top": null,
            "visibility": null,
            "width": "20px"
          }
        },
        "bbbad1f663534466887d75dd78c01868": {
          "model_module": "@jupyter-widgets/controls",
          "model_name": "ProgressStyleModel",
          "model_module_version": "1.5.0",
          "state": {
            "_model_module": "@jupyter-widgets/controls",
            "_model_module_version": "1.5.0",
            "_model_name": "ProgressStyleModel",
            "_view_count": null,
            "_view_module": "@jupyter-widgets/base",
            "_view_module_version": "1.2.0",
            "_view_name": "StyleView",
            "bar_color": null,
            "description_width": "initial"
          }
        },
        "f4a8b7fa78b541f79fe7fe8054e716c9": {
          "model_module": "@jupyter-widgets/base",
          "model_name": "LayoutModel",
          "model_module_version": "1.2.0",
          "state": {
            "_model_module": "@jupyter-widgets/base",
            "_model_module_version": "1.2.0",
            "_model_name": "LayoutModel",
            "_view_count": null,
            "_view_module": "@jupyter-widgets/base",
            "_view_module_version": "1.2.0",
            "_view_name": "LayoutView",
            "align_content": null,
            "align_items": null,
            "align_self": null,
            "border": null,
            "bottom": null,
            "display": null,
            "flex": null,
            "flex_flow": null,
            "grid_area": null,
            "grid_auto_columns": null,
            "grid_auto_flow": null,
            "grid_auto_rows": null,
            "grid_column": null,
            "grid_gap": null,
            "grid_row": null,
            "grid_template_areas": null,
            "grid_template_columns": null,
            "grid_template_rows": null,
            "height": null,
            "justify_content": null,
            "justify_items": null,
            "left": null,
            "margin": null,
            "max_height": null,
            "max_width": null,
            "min_height": null,
            "min_width": null,
            "object_fit": null,
            "object_position": null,
            "order": null,
            "overflow": null,
            "overflow_x": null,
            "overflow_y": null,
            "padding": null,
            "right": null,
            "top": null,
            "visibility": null,
            "width": null
          }
        },
        "e6f53c47947a40d2854487d8e8c0b109": {
          "model_module": "@jupyter-widgets/controls",
          "model_name": "DescriptionStyleModel",
          "model_module_version": "1.5.0",
          "state": {
            "_model_module": "@jupyter-widgets/controls",
            "_model_module_version": "1.5.0",
            "_model_name": "DescriptionStyleModel",
            "_view_count": null,
            "_view_module": "@jupyter-widgets/base",
            "_view_module_version": "1.2.0",
            "_view_name": "StyleView",
            "description_width": ""
          }
        },
        "fa92a84cbbdc45258bb96ea663f6bde1": {
          "model_module": "@jupyter-widgets/controls",
          "model_name": "HBoxModel",
          "model_module_version": "1.5.0",
          "state": {
            "_dom_classes": [],
            "_model_module": "@jupyter-widgets/controls",
            "_model_module_version": "1.5.0",
            "_model_name": "HBoxModel",
            "_view_count": null,
            "_view_module": "@jupyter-widgets/controls",
            "_view_module_version": "1.5.0",
            "_view_name": "HBoxView",
            "box_style": "",
            "children": [
              "IPY_MODEL_068c6fb095df4e38953c7d8128ef9f99",
              "IPY_MODEL_774185d2f315455d839f7c50f6192c33"
            ],
            "layout": "IPY_MODEL_b8fb677b06cb4f4ab0bfb38d6276bbed"
          }
        },
        "068c6fb095df4e38953c7d8128ef9f99": {
          "model_module": "@jupyter-widgets/controls",
          "model_name": "FloatProgressModel",
          "model_module_version": "1.5.0",
          "state": {
            "_dom_classes": [],
            "_model_module": "@jupyter-widgets/controls",
            "_model_module_version": "1.5.0",
            "_model_name": "FloatProgressModel",
            "_view_count": null,
            "_view_module": "@jupyter-widgets/controls",
            "_view_module_version": "1.5.0",
            "_view_name": "ProgressView",
            "bar_style": "info",
            "description": "",
            "description_tooltip": null,
            "layout": "IPY_MODEL_dab1b5c271874e49b0e52dc402814e5a",
            "max": 1,
            "min": 0,
            "orientation": "horizontal",
            "style": "IPY_MODEL_e44d6fd07d5d46669faad68bcc9d9f19",
            "value": 1
          }
        },
        "774185d2f315455d839f7c50f6192c33": {
          "model_module": "@jupyter-widgets/controls",
          "model_name": "HTMLModel",
          "model_module_version": "1.5.0",
          "state": {
            "_dom_classes": [],
            "_model_module": "@jupyter-widgets/controls",
            "_model_module_version": "1.5.0",
            "_model_name": "HTMLModel",
            "_view_count": null,
            "_view_module": "@jupyter-widgets/controls",
            "_view_module_version": "1.5.0",
            "_view_name": "HTMLView",
            "description": "",
            "description_tooltip": null,
            "layout": "IPY_MODEL_c467af7c6bee4c6a8c889a5e2cbf5a5e",
            "placeholder": "​",
            "style": "IPY_MODEL_c628a00839954d8582e66b45f9a06dc9",
            "value": "18 tables [00:01, 13.54 tables/s]"
          }
        },
        "b8fb677b06cb4f4ab0bfb38d6276bbed": {
          "model_module": "@jupyter-widgets/base",
          "model_name": "LayoutModel",
          "model_module_version": "1.2.0",
          "state": {
            "_model_module": "@jupyter-widgets/base",
            "_model_module_version": "1.2.0",
            "_model_name": "LayoutModel",
            "_view_count": null,
            "_view_module": "@jupyter-widgets/base",
            "_view_module_version": "1.2.0",
            "_view_name": "LayoutView",
            "align_content": null,
            "align_items": null,
            "align_self": null,
            "border": null,
            "bottom": null,
            "display": null,
            "flex": null,
            "flex_flow": null,
            "grid_area": null,
            "grid_auto_columns": null,
            "grid_auto_flow": null,
            "grid_auto_rows": null,
            "grid_column": null,
            "grid_gap": null,
            "grid_row": null,
            "grid_template_areas": null,
            "grid_template_columns": null,
            "grid_template_rows": null,
            "height": null,
            "justify_content": null,
            "justify_items": null,
            "left": null,
            "margin": null,
            "max_height": null,
            "max_width": null,
            "min_height": null,
            "min_width": null,
            "object_fit": null,
            "object_position": null,
            "order": null,
            "overflow": null,
            "overflow_x": null,
            "overflow_y": null,
            "padding": null,
            "right": null,
            "top": null,
            "visibility": null,
            "width": null
          }
        },
        "dab1b5c271874e49b0e52dc402814e5a": {
          "model_module": "@jupyter-widgets/base",
          "model_name": "LayoutModel",
          "model_module_version": "1.2.0",
          "state": {
            "_model_module": "@jupyter-widgets/base",
            "_model_module_version": "1.2.0",
            "_model_name": "LayoutModel",
            "_view_count": null,
            "_view_module": "@jupyter-widgets/base",
            "_view_module_version": "1.2.0",
            "_view_name": "LayoutView",
            "align_content": null,
            "align_items": null,
            "align_self": null,
            "border": null,
            "bottom": null,
            "display": null,
            "flex": null,
            "flex_flow": null,
            "grid_area": null,
            "grid_auto_columns": null,
            "grid_auto_flow": null,
            "grid_auto_rows": null,
            "grid_column": null,
            "grid_gap": null,
            "grid_row": null,
            "grid_template_areas": null,
            "grid_template_columns": null,
            "grid_template_rows": null,
            "height": null,
            "justify_content": null,
            "justify_items": null,
            "left": null,
            "margin": null,
            "max_height": null,
            "max_width": null,
            "min_height": null,
            "min_width": null,
            "object_fit": null,
            "object_position": null,
            "order": null,
            "overflow": null,
            "overflow_x": null,
            "overflow_y": null,
            "padding": null,
            "right": null,
            "top": null,
            "visibility": null,
            "width": "20px"
          }
        },
        "e44d6fd07d5d46669faad68bcc9d9f19": {
          "model_module": "@jupyter-widgets/controls",
          "model_name": "ProgressStyleModel",
          "model_module_version": "1.5.0",
          "state": {
            "_model_module": "@jupyter-widgets/controls",
            "_model_module_version": "1.5.0",
            "_model_name": "ProgressStyleModel",
            "_view_count": null,
            "_view_module": "@jupyter-widgets/base",
            "_view_module_version": "1.2.0",
            "_view_name": "StyleView",
            "bar_color": null,
            "description_width": "initial"
          }
        },
        "c467af7c6bee4c6a8c889a5e2cbf5a5e": {
          "model_module": "@jupyter-widgets/base",
          "model_name": "LayoutModel",
          "model_module_version": "1.2.0",
          "state": {
            "_model_module": "@jupyter-widgets/base",
            "_model_module_version": "1.2.0",
            "_model_name": "LayoutModel",
            "_view_count": null,
            "_view_module": "@jupyter-widgets/base",
            "_view_module_version": "1.2.0",
            "_view_name": "LayoutView",
            "align_content": null,
            "align_items": null,
            "align_self": null,
            "border": null,
            "bottom": null,
            "display": null,
            "flex": null,
            "flex_flow": null,
            "grid_area": null,
            "grid_auto_columns": null,
            "grid_auto_flow": null,
            "grid_auto_rows": null,
            "grid_column": null,
            "grid_gap": null,
            "grid_row": null,
            "grid_template_areas": null,
            "grid_template_columns": null,
            "grid_template_rows": null,
            "height": null,
            "justify_content": null,
            "justify_items": null,
            "left": null,
            "margin": null,
            "max_height": null,
            "max_width": null,
            "min_height": null,
            "min_width": null,
            "object_fit": null,
            "object_position": null,
            "order": null,
            "overflow": null,
            "overflow_x": null,
            "overflow_y": null,
            "padding": null,
            "right": null,
            "top": null,
            "visibility": null,
            "width": null
          }
        },
        "c628a00839954d8582e66b45f9a06dc9": {
          "model_module": "@jupyter-widgets/controls",
          "model_name": "DescriptionStyleModel",
          "model_module_version": "1.5.0",
          "state": {
            "_model_module": "@jupyter-widgets/controls",
            "_model_module_version": "1.5.0",
            "_model_name": "DescriptionStyleModel",
            "_view_count": null,
            "_view_module": "@jupyter-widgets/base",
            "_view_module_version": "1.2.0",
            "_view_name": "StyleView",
            "description_width": ""
          }
        },
        "9833463012cf4920878d76e7f24a9ca2": {
          "model_module": "@jupyter-widgets/controls",
          "model_name": "HBoxModel",
          "model_module_version": "1.5.0",
          "state": {
            "_dom_classes": [],
            "_model_module": "@jupyter-widgets/controls",
            "_model_module_version": "1.5.0",
            "_model_name": "HBoxModel",
            "_view_count": null,
            "_view_module": "@jupyter-widgets/controls",
            "_view_module_version": "1.5.0",
            "_view_name": "HBoxView",
            "box_style": "",
            "children": [
              "IPY_MODEL_d1968d44f22b46e3aebf940624d2b974",
              "IPY_MODEL_b89da6fab0fb4eabbc642c48a335ce68"
            ],
            "layout": "IPY_MODEL_e143c35d057d4edabf10a82334a5f275"
          }
        },
        "d1968d44f22b46e3aebf940624d2b974": {
          "model_module": "@jupyter-widgets/controls",
          "model_name": "FloatProgressModel",
          "model_module_version": "1.5.0",
          "state": {
            "_dom_classes": [],
            "_model_module": "@jupyter-widgets/controls",
            "_model_module_version": "1.5.0",
            "_model_name": "FloatProgressModel",
            "_view_count": null,
            "_view_module": "@jupyter-widgets/controls",
            "_view_module_version": "1.5.0",
            "_view_name": "ProgressView",
            "bar_style": "success",
            "description": "100%",
            "description_tooltip": null,
            "layout": "IPY_MODEL_c5caab901eea45ecb59b7b05786c3839",
            "max": 1998,
            "min": 0,
            "orientation": "horizontal",
            "style": "IPY_MODEL_393d334f53984e20a3ac818846a48bb1",
            "value": 1998
          }
        },
        "b89da6fab0fb4eabbc642c48a335ce68": {
          "model_module": "@jupyter-widgets/controls",
          "model_name": "HTMLModel",
          "model_module_version": "1.5.0",
          "state": {
            "_dom_classes": [],
            "_model_module": "@jupyter-widgets/controls",
            "_model_module_version": "1.5.0",
            "_model_name": "HTMLModel",
            "_view_count": null,
            "_view_module": "@jupyter-widgets/controls",
            "_view_module_version": "1.5.0",
            "_view_name": "HTMLView",
            "description": "",
            "description_tooltip": null,
            "layout": "IPY_MODEL_838e990dbc394b01b3180b552492153d",
            "placeholder": "​",
            "style": "IPY_MODEL_83d07bb511ea462fb1321d801c6317cd",
            "value": " 1998/1998 [57:49&lt;00:00,  1.74s/ba]"
          }
        },
        "e143c35d057d4edabf10a82334a5f275": {
          "model_module": "@jupyter-widgets/base",
          "model_name": "LayoutModel",
          "model_module_version": "1.2.0",
          "state": {
            "_model_module": "@jupyter-widgets/base",
            "_model_module_version": "1.2.0",
            "_model_name": "LayoutModel",
            "_view_count": null,
            "_view_module": "@jupyter-widgets/base",
            "_view_module_version": "1.2.0",
            "_view_name": "LayoutView",
            "align_content": null,
            "align_items": null,
            "align_self": null,
            "border": null,
            "bottom": null,
            "display": null,
            "flex": null,
            "flex_flow": null,
            "grid_area": null,
            "grid_auto_columns": null,
            "grid_auto_flow": null,
            "grid_auto_rows": null,
            "grid_column": null,
            "grid_gap": null,
            "grid_row": null,
            "grid_template_areas": null,
            "grid_template_columns": null,
            "grid_template_rows": null,
            "height": null,
            "justify_content": null,
            "justify_items": null,
            "left": null,
            "margin": null,
            "max_height": null,
            "max_width": null,
            "min_height": null,
            "min_width": null,
            "object_fit": null,
            "object_position": null,
            "order": null,
            "overflow": null,
            "overflow_x": null,
            "overflow_y": null,
            "padding": null,
            "right": null,
            "top": null,
            "visibility": null,
            "width": null
          }
        },
        "c5caab901eea45ecb59b7b05786c3839": {
          "model_module": "@jupyter-widgets/base",
          "model_name": "LayoutModel",
          "model_module_version": "1.2.0",
          "state": {
            "_model_module": "@jupyter-widgets/base",
            "_model_module_version": "1.2.0",
            "_model_name": "LayoutModel",
            "_view_count": null,
            "_view_module": "@jupyter-widgets/base",
            "_view_module_version": "1.2.0",
            "_view_name": "LayoutView",
            "align_content": null,
            "align_items": null,
            "align_self": null,
            "border": null,
            "bottom": null,
            "display": null,
            "flex": null,
            "flex_flow": null,
            "grid_area": null,
            "grid_auto_columns": null,
            "grid_auto_flow": null,
            "grid_auto_rows": null,
            "grid_column": null,
            "grid_gap": null,
            "grid_row": null,
            "grid_template_areas": null,
            "grid_template_columns": null,
            "grid_template_rows": null,
            "height": null,
            "justify_content": null,
            "justify_items": null,
            "left": null,
            "margin": null,
            "max_height": null,
            "max_width": null,
            "min_height": null,
            "min_width": null,
            "object_fit": null,
            "object_position": null,
            "order": null,
            "overflow": null,
            "overflow_x": null,
            "overflow_y": null,
            "padding": null,
            "right": null,
            "top": null,
            "visibility": null,
            "width": null
          }
        },
        "393d334f53984e20a3ac818846a48bb1": {
          "model_module": "@jupyter-widgets/controls",
          "model_name": "ProgressStyleModel",
          "model_module_version": "1.5.0",
          "state": {
            "_model_module": "@jupyter-widgets/controls",
            "_model_module_version": "1.5.0",
            "_model_name": "ProgressStyleModel",
            "_view_count": null,
            "_view_module": "@jupyter-widgets/base",
            "_view_module_version": "1.2.0",
            "_view_name": "StyleView",
            "bar_color": null,
            "description_width": "initial"
          }
        },
        "838e990dbc394b01b3180b552492153d": {
          "model_module": "@jupyter-widgets/base",
          "model_name": "LayoutModel",
          "model_module_version": "1.2.0",
          "state": {
            "_model_module": "@jupyter-widgets/base",
            "_model_module_version": "1.2.0",
            "_model_name": "LayoutModel",
            "_view_count": null,
            "_view_module": "@jupyter-widgets/base",
            "_view_module_version": "1.2.0",
            "_view_name": "LayoutView",
            "align_content": null,
            "align_items": null,
            "align_self": null,
            "border": null,
            "bottom": null,
            "display": null,
            "flex": null,
            "flex_flow": null,
            "grid_area": null,
            "grid_auto_columns": null,
            "grid_auto_flow": null,
            "grid_auto_rows": null,
            "grid_column": null,
            "grid_gap": null,
            "grid_row": null,
            "grid_template_areas": null,
            "grid_template_columns": null,
            "grid_template_rows": null,
            "height": null,
            "justify_content": null,
            "justify_items": null,
            "left": null,
            "margin": null,
            "max_height": null,
            "max_width": null,
            "min_height": null,
            "min_width": null,
            "object_fit": null,
            "object_position": null,
            "order": null,
            "overflow": null,
            "overflow_x": null,
            "overflow_y": null,
            "padding": null,
            "right": null,
            "top": null,
            "visibility": null,
            "width": null
          }
        },
        "83d07bb511ea462fb1321d801c6317cd": {
          "model_module": "@jupyter-widgets/controls",
          "model_name": "DescriptionStyleModel",
          "model_module_version": "1.5.0",
          "state": {
            "_model_module": "@jupyter-widgets/controls",
            "_model_module_version": "1.5.0",
            "_model_name": "DescriptionStyleModel",
            "_view_count": null,
            "_view_module": "@jupyter-widgets/base",
            "_view_module_version": "1.2.0",
            "_view_name": "StyleView",
            "description_width": ""
          }
        },
        "2181c545c89f4434aab66b5383e8b97a": {
          "model_module": "@jupyter-widgets/controls",
          "model_name": "HBoxModel",
          "model_module_version": "1.5.0",
          "state": {
            "_dom_classes": [],
            "_model_module": "@jupyter-widgets/controls",
            "_model_module_version": "1.5.0",
            "_model_name": "HBoxModel",
            "_view_count": null,
            "_view_module": "@jupyter-widgets/controls",
            "_view_module_version": "1.5.0",
            "_view_name": "HBoxView",
            "box_style": "",
            "children": [
              "IPY_MODEL_7fb6f90bc5db4aaca287f4494f950aec",
              "IPY_MODEL_405ee21bd2c34af69c71383f281c14e4"
            ],
            "layout": "IPY_MODEL_c3eda186758f4c359f0cc84f3fb9a625"
          }
        },
        "7fb6f90bc5db4aaca287f4494f950aec": {
          "model_module": "@jupyter-widgets/controls",
          "model_name": "FloatProgressModel",
          "model_module_version": "1.5.0",
          "state": {
            "_dom_classes": [],
            "_model_module": "@jupyter-widgets/controls",
            "_model_module_version": "1.5.0",
            "_model_name": "FloatProgressModel",
            "_view_count": null,
            "_view_module": "@jupyter-widgets/controls",
            "_view_module_version": "1.5.0",
            "_view_name": "ProgressView",
            "bar_style": "success",
            "description": "100%",
            "description_tooltip": null,
            "layout": "IPY_MODEL_d4f1799c6c6c4b858a7b37c15e090c4c",
            "max": 400,
            "min": 0,
            "orientation": "horizontal",
            "style": "IPY_MODEL_415917e0aea947d78b875833ee0703d8",
            "value": 400
          }
        },
        "405ee21bd2c34af69c71383f281c14e4": {
          "model_module": "@jupyter-widgets/controls",
          "model_name": "HTMLModel",
          "model_module_version": "1.5.0",
          "state": {
            "_dom_classes": [],
            "_model_module": "@jupyter-widgets/controls",
            "_model_module_version": "1.5.0",
            "_model_name": "HTMLModel",
            "_view_count": null,
            "_view_module": "@jupyter-widgets/controls",
            "_view_module_version": "1.5.0",
            "_view_name": "HTMLView",
            "description": "",
            "description_tooltip": null,
            "layout": "IPY_MODEL_16733c688fa143e4a96a9f61305bd7ec",
            "placeholder": "​",
            "style": "IPY_MODEL_d0a8b24881f4485bae55a0b58c5e0a7d",
            "value": " 400/400 [11:35&lt;00:00,  1.74s/ba]"
          }
        },
        "c3eda186758f4c359f0cc84f3fb9a625": {
          "model_module": "@jupyter-widgets/base",
          "model_name": "LayoutModel",
          "model_module_version": "1.2.0",
          "state": {
            "_model_module": "@jupyter-widgets/base",
            "_model_module_version": "1.2.0",
            "_model_name": "LayoutModel",
            "_view_count": null,
            "_view_module": "@jupyter-widgets/base",
            "_view_module_version": "1.2.0",
            "_view_name": "LayoutView",
            "align_content": null,
            "align_items": null,
            "align_self": null,
            "border": null,
            "bottom": null,
            "display": null,
            "flex": null,
            "flex_flow": null,
            "grid_area": null,
            "grid_auto_columns": null,
            "grid_auto_flow": null,
            "grid_auto_rows": null,
            "grid_column": null,
            "grid_gap": null,
            "grid_row": null,
            "grid_template_areas": null,
            "grid_template_columns": null,
            "grid_template_rows": null,
            "height": null,
            "justify_content": null,
            "justify_items": null,
            "left": null,
            "margin": null,
            "max_height": null,
            "max_width": null,
            "min_height": null,
            "min_width": null,
            "object_fit": null,
            "object_position": null,
            "order": null,
            "overflow": null,
            "overflow_x": null,
            "overflow_y": null,
            "padding": null,
            "right": null,
            "top": null,
            "visibility": null,
            "width": null
          }
        },
        "d4f1799c6c6c4b858a7b37c15e090c4c": {
          "model_module": "@jupyter-widgets/base",
          "model_name": "LayoutModel",
          "model_module_version": "1.2.0",
          "state": {
            "_model_module": "@jupyter-widgets/base",
            "_model_module_version": "1.2.0",
            "_model_name": "LayoutModel",
            "_view_count": null,
            "_view_module": "@jupyter-widgets/base",
            "_view_module_version": "1.2.0",
            "_view_name": "LayoutView",
            "align_content": null,
            "align_items": null,
            "align_self": null,
            "border": null,
            "bottom": null,
            "display": null,
            "flex": null,
            "flex_flow": null,
            "grid_area": null,
            "grid_auto_columns": null,
            "grid_auto_flow": null,
            "grid_auto_rows": null,
            "grid_column": null,
            "grid_gap": null,
            "grid_row": null,
            "grid_template_areas": null,
            "grid_template_columns": null,
            "grid_template_rows": null,
            "height": null,
            "justify_content": null,
            "justify_items": null,
            "left": null,
            "margin": null,
            "max_height": null,
            "max_width": null,
            "min_height": null,
            "min_width": null,
            "object_fit": null,
            "object_position": null,
            "order": null,
            "overflow": null,
            "overflow_x": null,
            "overflow_y": null,
            "padding": null,
            "right": null,
            "top": null,
            "visibility": null,
            "width": null
          }
        },
        "415917e0aea947d78b875833ee0703d8": {
          "model_module": "@jupyter-widgets/controls",
          "model_name": "ProgressStyleModel",
          "model_module_version": "1.5.0",
          "state": {
            "_model_module": "@jupyter-widgets/controls",
            "_model_module_version": "1.5.0",
            "_model_name": "ProgressStyleModel",
            "_view_count": null,
            "_view_module": "@jupyter-widgets/base",
            "_view_module_version": "1.2.0",
            "_view_name": "StyleView",
            "bar_color": null,
            "description_width": "initial"
          }
        },
        "16733c688fa143e4a96a9f61305bd7ec": {
          "model_module": "@jupyter-widgets/base",
          "model_name": "LayoutModel",
          "model_module_version": "1.2.0",
          "state": {
            "_model_module": "@jupyter-widgets/base",
            "_model_module_version": "1.2.0",
            "_model_name": "LayoutModel",
            "_view_count": null,
            "_view_module": "@jupyter-widgets/base",
            "_view_module_version": "1.2.0",
            "_view_name": "LayoutView",
            "align_content": null,
            "align_items": null,
            "align_self": null,
            "border": null,
            "bottom": null,
            "display": null,
            "flex": null,
            "flex_flow": null,
            "grid_area": null,
            "grid_auto_columns": null,
            "grid_auto_flow": null,
            "grid_auto_rows": null,
            "grid_column": null,
            "grid_gap": null,
            "grid_row": null,
            "grid_template_areas": null,
            "grid_template_columns": null,
            "grid_template_rows": null,
            "height": null,
            "justify_content": null,
            "justify_items": null,
            "left": null,
            "margin": null,
            "max_height": null,
            "max_width": null,
            "min_height": null,
            "min_width": null,
            "object_fit": null,
            "object_position": null,
            "order": null,
            "overflow": null,
            "overflow_x": null,
            "overflow_y": null,
            "padding": null,
            "right": null,
            "top": null,
            "visibility": null,
            "width": null
          }
        },
        "d0a8b24881f4485bae55a0b58c5e0a7d": {
          "model_module": "@jupyter-widgets/controls",
          "model_name": "DescriptionStyleModel",
          "model_module_version": "1.5.0",
          "state": {
            "_model_module": "@jupyter-widgets/controls",
            "_model_module_version": "1.5.0",
            "_model_name": "DescriptionStyleModel",
            "_view_count": null,
            "_view_module": "@jupyter-widgets/base",
            "_view_module_version": "1.2.0",
            "_view_name": "StyleView",
            "description_width": ""
          }
        }
      }
    }
  },
  "cells": [
    {
      "cell_type": "code",
      "execution_count": null,
      "metadata": {
        "id": "P3PDdStJnZAm"
      },
      "outputs": [],
      "source": [
        "%%capture\n",
        "!pip install -U pip\n",
        "!pip install transformers\n",
        "!pip install transformers-domain-adaptation"
      ]
    },
    {
      "cell_type": "code",
      "source": [
        "from pathlib import Path\n",
        "import itertools as it\n",
        "from typing import Sequence, Union, Generator\n",
        "import random\n",
        "import pandas as pd\n",
        "\n",
        "from transformers import AutoModelForMaskedLM, AutoTokenizer, DataCollatorForLanguageModeling, Trainer, TrainingArguments\n",
        "from transformers_domain_adaptation import DataSelector, VocabAugmentor\n",
        "from datasets import load_dataset\n",
        "\n",
        "from google.colab import auth\n",
        "from google.auth import default\n",
        "auth.authenticate_user()\n",
        "import gspread\n",
        "from oauth2client.client import GoogleCredentials\n",
        "from google.colab import drive\n",
        "drive.mount('/drive')\n",
        "\n",
        "creds, _ = default()\n",
        "gc = gspread.authorize(creds)"
      ],
      "metadata": {
        "colab": {
          "base_uri": "https://localhost:8080/"
        },
        "id": "0gE3FHdewdov",
        "outputId": "33439c17-a04c-4c50-d35e-caaeb554eaed"
      },
      "execution_count": null,
      "outputs": [
        {
          "output_type": "stream",
          "name": "stdout",
          "text": [
            "Drive already mounted at /drive; to attempt to forcibly remount, call drive.mount(\"/drive\", force_remount=True).\n"
          ]
        }
      ]
    },
    {
      "cell_type": "code",
      "source": [
        "def df_from_google_sheets(path, columns):\n",
        "\n",
        "  \"\"\"\n",
        "  Get a pandas dataframe object from Google Sheets\n",
        "  \"\"\"\n",
        "\n",
        "  worksheet = gc.open(path).sheet1\n",
        "  rows = worksheet.get_all_values()\n",
        "  rows = [x[:5] for x in rows]\n",
        "\n",
        "  return pd.DataFrame.from_records(rows[1:], columns=columns)\n",
        "\n",
        "def get_pc_claims(podcast_claims):\n",
        "  pc_claims = []\n",
        "\n",
        "  with open(podcast_claims, 'r') as all_transcripts:\n",
        "    for idx, line in enumerate(all_transcripts):\n",
        "      pc_claims.append(line.strip().split(\"\\t\"))\n",
        "  \n",
        "  return pc_claims\n",
        "\n",
        "def get_train_data(pc_claims):\n",
        "\n",
        "  \"\"\"\n",
        "  Format pc_claims list to get rid of repeated claims in the tsv file\n",
        "  \"\"\"\n",
        "\n",
        "  pc_claims_list = []\n",
        "  training_texts_spotify = []\n",
        "  sentences = 0\n",
        "  for i in range(int(len(pc_claims)/5)):\n",
        "    pc_claims_list.append(pc_claims[sentences][2:])\n",
        "    training_texts_spotify.append('.'.join(str(x) for x in pc_claims_list[i][:]))\n",
        "    sentences += 5 # five elements of list after current are similar but with different context\n",
        "  \n",
        "  return training_texts_spotify"
      ],
      "metadata": {
        "id": "rdlNpeXn1ka4"
      },
      "execution_count": null,
      "outputs": []
    },
    {
      "cell_type": "markdown",
      "source": [
        "# Importing Labeled Data"
      ],
      "metadata": {
        "id": "SW37JrkABtCe"
      }
    },
    {
      "cell_type": "code",
      "source": [
        "column_names = ['Fact Checked Claim Index', 'Podcast Claim Index', 'Fact Checked Claim', 'Podcast Claim', 'Stance Agreement']\n",
        "\n",
        "december_labeled_data_path = '/drive/My Drive/spotify-misinformation/labeling-output/manually-labeled-matched-pairs.csv'\n",
        "december_labeled_data = pd.read_csv(december_labeled_data_path)\n",
        "omar_individual = df_from_google_sheets('top_3000_context_2_single_sentence_omar_individual', columns=column_names)\n",
        "omar_individual_data = omar_individual[200:800].copy()\n",
        "jon_individual = df_from_google_sheets('top_3000_context_2_single_sentence_jon_individual', columns=column_names)\n",
        "jon_individual_data = jon_individual[200:800].copy()\n",
        "omar_predictions_data = df_from_google_sheets('spotifact-predictions-labeling-omar', columns=column_names)\n",
        "omar_predictions_data_2 = df_from_google_sheets('spotifact-predictions-labeling-omar-2', columns=column_names)\n",
        "omar_predictions_data_3 = df_from_google_sheets('spotifact-predictions-labeling-omar-3', columns=column_names)\n",
        "omar_predictions_data_retrain = df_from_google_sheets('spotifact-predictions-labeling-omar-retrain', columns=column_names)\n",
        "omar_predictions_partials = df_from_google_sheets('spotifact-predictions-labeling-omar-partials-3k-13k', columns=column_names)\n",
        "\n",
        "frames = [december_labeled_data, omar_individual_data, jon_individual_data, omar_predictions_data, \n",
        "          omar_predictions_data_2, omar_predictions_data_retrain, omar_predictions_partials]\n",
        "\n",
        "total_labeled_data = pd.concat(frames) # Concatenated df with overlap and recent Jon (Omar) and Omar's 2022 labels\n",
        "fine_tuning_texts_spotifact = total_labeled_data['Podcast Claim'].tolist()\n",
        "\n",
        "textfile = open(\"/drive/My Drive/pretraining/data/ft_corpus_train.txt\", \"w\")\n",
        "for line in fine_tuning_texts_spotifact:\n",
        "    textfile.write(line + \"\\n\")\n",
        "textfile.close()"
      ],
      "metadata": {
        "id": "Ijn7Yd5lBuNp"
      },
      "execution_count": null,
      "outputs": []
    },
    {
      "cell_type": "code",
      "source": [
        "podcast_claims = '/drive/MyDrive/spotify-misinformation/preprocessing-output/podcast_claims_context_2_reupload.tsv'\n",
        "dpt_corpus_train_data_selected_spotify = '/drive/My Drive/pretraining/data/spotify_subset_train_data_selected.txt' \n",
        "dpt_corpus_val_spotify = '/drive/My Drive/pretraining/data/spotify_subset_val.txt' \n",
        "ft_corpus_train = '/drive/My Drive/pretraining/data/ft_corpus_train.txt'"
      ],
      "metadata": {
        "colab": {
          "base_uri": "https://localhost:8080/",
          "height": 54
        },
        "id": "9VqicnW10EX5",
        "outputId": "78af47a9-fb2a-4ed8-ccd8-c7714602e046"
      },
      "execution_count": null,
      "outputs": [
        {
          "output_type": "execute_result",
          "data": {
            "text/plain": [
              "'\\npc_claims = []\\n\\nwith open(podcast_claims, \\'r\\') as all_transcripts:\\n  for idx, line in enumerate(all_transcripts):\\n    pc_claims.append(line.strip().split(\"\\t\"))\\n'"
            ],
            "application/vnd.google.colaboratory.intrinsic+json": {
              "type": "string"
            }
          },
          "metadata": {},
          "execution_count": 7
        }
      ]
    },
    {
      "cell_type": "code",
      "source": [
        "pc_claims = get_pc_claims(podcast_claims)"
      ],
      "metadata": {
        "id": "qNiOoFb02O6i"
      },
      "execution_count": null,
      "outputs": []
    },
    {
      "cell_type": "code",
      "source": [
        "training_texts_spotify = get_train_data(pc_claims)"
      ],
      "metadata": {
        "id": "kt8KcQ4_Q2F0"
      },
      "execution_count": null,
      "outputs": []
    },
    {
      "cell_type": "code",
      "source": [
        "model_card = 'bert-base-uncased'\n",
        "device = 'cuda'\n",
        "model = AutoModelForMaskedLM.from_pretrained(model_card)\n",
        "tokenizer = AutoTokenizer.from_pretrained(model_card)\n",
        "model = model.to(device)"
      ],
      "metadata": {
        "id": "L_TQs-4znnJ0"
      },
      "execution_count": null,
      "outputs": []
    },
    {
      "cell_type": "markdown",
      "source": [
        "# Data Selection"
      ],
      "metadata": {
        "id": "pCcHdSrPK-Y4"
      }
    },
    {
      "cell_type": "code",
      "source": [
        "selector = DataSelector(\n",
        "    keep=0.5, \n",
        "    tokenizer=tokenizer,\n",
        "    similarity_metrics=['euclidean'],\n",
        "    diversity_metrics=[\n",
        "        \"type_token_ratio\",\n",
        "        \"entropy\",\n",
        "    ],\n",
        ")\n",
        "\n",
        "# Fit on fine-tuning corpus\n",
        "selector.fit(fine_tuning_texts_spotifact)\n",
        "\n",
        "# Select relevant documents from in-domain training corpus\n",
        "selected_corpus = training_texts_spotify\n",
        "selected_corpus = selected_corpus[0:int(0.8*len(selected_corpus))]\n",
        "selected_corpus_val = selected_corpus[int(0.8*len(selected_corpus)):len(selected_corpus)]\n",
        "\n",
        "# Save selected corpus to disk under `dpt_corpus_train_data_selected`\n",
        "Path(dpt_corpus_train_data_selected_spotify).write_text('\\n'.join(selected_corpus));\n",
        "Path(dpt_corpus_val_spotify).write_text('\\n'.join(selected_corpus_val));"
      ],
      "metadata": {
        "colab": {
          "base_uri": "https://localhost:8080/"
        },
        "id": "fQavd95inq1G",
        "outputId": "26495e0e-20db-48f9-e300-870239d7eeb3"
      },
      "execution_count": null,
      "outputs": [
        {
          "output_type": "stream",
          "name": "stderr",
          "text": [
            "Token indices sequence length is longer than the specified maximum sequence length for this model (347881 > 512). Running this sequence through the model will result in indexing errors\n"
          ]
        }
      ]
    },
    {
      "cell_type": "code",
      "source": [
        "len(training_texts_spotify), len(selected_corpus)"
      ],
      "metadata": {
        "colab": {
          "base_uri": "https://localhost:8080/"
        },
        "id": "bSQ-em1XntGT",
        "outputId": "bc84b24e-9da8-4650-990e-49f2adf03d75"
      },
      "execution_count": null,
      "outputs": [
        {
          "output_type": "execute_result",
          "data": {
            "text/plain": [
              "(2497241, 1997792)"
            ]
          },
          "metadata": {},
          "execution_count": 40
        }
      ]
    },
    {
      "cell_type": "code",
      "source": [
        "selected_corpus[10]"
      ],
      "metadata": {
        "colab": {
          "base_uri": "https://localhost:8080/",
          "height": 71
        },
        "id": "t7Nvw_0Rntc5",
        "outputId": "748215ca-d695-49d2-d7e5-0ff9ce04d025"
      },
      "execution_count": null,
      "outputs": [
        {
          "output_type": "execute_result",
          "data": {
            "text/plain": [
              "\" You can make money from your podcast with no minimum listenership. It's everything you need to make a podcast in one place and makes everything super easy for you guys. So guys download the free anchor app or go to Anchor dot. F m-- to get started. I want to give a huge huge disclaimer to everyone that's listening\""
            ],
            "application/vnd.google.colaboratory.intrinsic+json": {
              "type": "string"
            }
          },
          "metadata": {},
          "execution_count": 41
        }
      ]
    },
    {
      "cell_type": "markdown",
      "source": [
        "# Vocabulary Augmentation"
      ],
      "metadata": {
        "id": "0SB4fUHuLaIt"
      }
    },
    {
      "cell_type": "code",
      "source": [
        "target_vocab_size = 31_000  \n",
        "\n",
        "augmentor = VocabAugmentor(\n",
        "    tokenizer=tokenizer, \n",
        "    cased=False, \n",
        "    target_vocab_size=target_vocab_size\n",
        ")\n",
        "\n",
        "# Obtain new domain-specific terminology based on the fine-tuning corpus\n",
        "new_tokens = augmentor.get_new_tokens(ft_corpus_train)"
      ],
      "metadata": {
        "id": "yOI9fHVJnwMm"
      },
      "execution_count": null,
      "outputs": []
    },
    {
      "cell_type": "markdown",
      "source": [
        "Below are some examples of extracted domain-specific terminology based on the fine-tuning corpus. "
      ],
      "metadata": {
        "id": "mXvzpbQ7KZnp"
      }
    },
    {
      "cell_type": "code",
      "source": [
        "print(new_tokens[:20])"
      ],
      "metadata": {
        "colab": {
          "base_uri": "https://localhost:8080/"
        },
        "id": "QSVjZI_EnwjA",
        "outputId": "98e7f3d5-78ad-450c-d51f-824b97b1bcf1"
      },
      "execution_count": null,
      "outputs": [
        {
          "output_type": "stream",
          "name": "stdout",
          "text": [
            "['?.', 'coronavirus', 'parenthood', 'vaccinated', 'abortions', 'mmr', 'instagram', 'millennials', 'bitcoin', 'vaccinations', 'opioid', 'cbd', 'ebola', 'obamacare', 'shootings', 'measles', 'biden', ',.', 'vaccinate', 'earthers']\n"
          ]
        }
      ]
    },
    {
      "cell_type": "code",
      "source": [
        "tokenizer.add_tokens(new_tokens)\n",
        "model.resize_token_embeddings(len(tokenizer))"
      ],
      "metadata": {
        "colab": {
          "base_uri": "https://localhost:8080/"
        },
        "id": "j3uLn2HtnyC1",
        "outputId": "90fe01c9-f29a-42f1-f1dc-401d9b7afdea"
      },
      "execution_count": null,
      "outputs": [
        {
          "output_type": "execute_result",
          "data": {
            "text/plain": [
              "Embedding(31000, 768)"
            ]
          },
          "metadata": {},
          "execution_count": 44
        }
      ]
    },
    {
      "cell_type": "markdown",
      "source": [
        "# Domain Adaptation (Pre-Training)"
      ],
      "metadata": {
        "id": "A9Eb2CQ0LhVR"
      }
    },
    {
      "cell_type": "code",
      "source": [
        "datasets = load_dataset(\n",
        "    'text', \n",
        "    data_files={\n",
        "        \"train\": dpt_corpus_train_data_selected_spotify, \n",
        "        \"val\": dpt_corpus_val_spotify\n",
        "    }\n",
        ")\n",
        "\n",
        "tokenized_datasets = datasets.map(\n",
        "    lambda examples: tokenizer(examples['text'], truncation=True, max_length=model.config.max_position_embeddings), \n",
        "    batched=True\n",
        ")\n",
        "\n",
        "data_collator = DataCollatorForLanguageModeling(\n",
        "    tokenizer=tokenizer, mlm=True, mlm_probability=0.15\n",
        ")\n",
        "\n",
        "training_args = TrainingArguments(\n",
        "    output_dir=\"/drive/My Drive/pretraining/domain-pretraining\",\n",
        "    overwrite_output_dir=True,\n",
        "    max_steps=1000,\n",
        "    per_device_train_batch_size=8,\n",
        "    per_device_eval_batch_size=16,\n",
        "    evaluation_strategy=\"steps\",\n",
        "    save_steps=50,\n",
        "    save_total_limit=2,\n",
        "    logging_steps=50,\n",
        "    seed=42,\n",
        "    # fp16=True,\n",
        "    dataloader_num_workers=2,\n",
        "    disable_tqdm=False\n",
        ")\n",
        "\n",
        "trainer = Trainer(\n",
        "    model=model,\n",
        "    args=training_args,\n",
        "    train_dataset=tokenized_datasets['train'],\n",
        "    eval_dataset=tokenized_datasets['val'],\n",
        "    data_collator=data_collator,\n",
        "    tokenizer=tokenizer,  # This tokenizer has new tokens\n",
        ")"
      ],
      "metadata": {
        "colab": {
          "base_uri": "https://localhost:8080/",
          "height": 186,
          "referenced_widgets": [
            "ce641d4330e440fb9229b4db41ee8252",
            "403af7269e6c448996bda28478112095",
            "b9ce622dcc344917bb775accd37163d9",
            "4201cccc91684579861149349ab836c0",
            "3b7a6f22ec69427493d28441496a811a",
            "bbbad1f663534466887d75dd78c01868",
            "f4a8b7fa78b541f79fe7fe8054e716c9",
            "e6f53c47947a40d2854487d8e8c0b109",
            "fa92a84cbbdc45258bb96ea663f6bde1",
            "068c6fb095df4e38953c7d8128ef9f99",
            "774185d2f315455d839f7c50f6192c33",
            "b8fb677b06cb4f4ab0bfb38d6276bbed",
            "dab1b5c271874e49b0e52dc402814e5a",
            "e44d6fd07d5d46669faad68bcc9d9f19",
            "c467af7c6bee4c6a8c889a5e2cbf5a5e",
            "c628a00839954d8582e66b45f9a06dc9",
            "9833463012cf4920878d76e7f24a9ca2",
            "d1968d44f22b46e3aebf940624d2b974",
            "b89da6fab0fb4eabbc642c48a335ce68",
            "e143c35d057d4edabf10a82334a5f275",
            "c5caab901eea45ecb59b7b05786c3839",
            "393d334f53984e20a3ac818846a48bb1",
            "838e990dbc394b01b3180b552492153d",
            "83d07bb511ea462fb1321d801c6317cd",
            "2181c545c89f4434aab66b5383e8b97a",
            "7fb6f90bc5db4aaca287f4494f950aec",
            "405ee21bd2c34af69c71383f281c14e4",
            "c3eda186758f4c359f0cc84f3fb9a625",
            "d4f1799c6c6c4b858a7b37c15e090c4c",
            "415917e0aea947d78b875833ee0703d8",
            "16733c688fa143e4a96a9f61305bd7ec",
            "d0a8b24881f4485bae55a0b58c5e0a7d"
          ]
        },
        "id": "l5NjJOTVn2w8",
        "outputId": "762ef842-8c7d-48d6-ac08-581cd805f88e"
      },
      "execution_count": null,
      "outputs": [
        {
          "output_type": "stream",
          "name": "stderr",
          "text": [
            "Using custom data configuration default\n"
          ]
        },
        {
          "output_type": "stream",
          "name": "stdout",
          "text": [
            "Downloading and preparing dataset text/default-64682f2c81e01b20 (download: Unknown size, generated: Unknown size, post-processed: Unknown size, total: Unknown size) to /root/.cache/huggingface/datasets/text/default-64682f2c81e01b20/0.0.0/daf90a707a433ac193b369c8cc1772139bb6cca21a9c7fe83bdd16aad9b9b6ab...\n"
          ]
        },
        {
          "output_type": "display_data",
          "data": {
            "text/plain": [
              "HBox(children=(FloatProgress(value=1.0, bar_style='info', layout=Layout(width='20px'), max=1.0), HTML(value=''…"
            ],
            "application/vnd.jupyter.widget-view+json": {
              "version_major": 2,
              "version_minor": 0,
              "model_id": "ce641d4330e440fb9229b4db41ee8252"
            }
          },
          "metadata": {}
        },
        {
          "output_type": "display_data",
          "data": {
            "text/plain": [
              "HBox(children=(FloatProgress(value=1.0, bar_style='info', layout=Layout(width='20px'), max=1.0), HTML(value=''…"
            ],
            "application/vnd.jupyter.widget-view+json": {
              "version_major": 2,
              "version_minor": 0,
              "model_id": "fa92a84cbbdc45258bb96ea663f6bde1"
            }
          },
          "metadata": {}
        },
        {
          "output_type": "stream",
          "name": "stdout",
          "text": [
            "Dataset text downloaded and prepared to /root/.cache/huggingface/datasets/text/default-64682f2c81e01b20/0.0.0/daf90a707a433ac193b369c8cc1772139bb6cca21a9c7fe83bdd16aad9b9b6ab. Subsequent calls will reuse this data.\n"
          ]
        },
        {
          "output_type": "display_data",
          "data": {
            "text/plain": [
              "HBox(children=(FloatProgress(value=0.0, max=1998.0), HTML(value='')))"
            ],
            "application/vnd.jupyter.widget-view+json": {
              "version_major": 2,
              "version_minor": 0,
              "model_id": "9833463012cf4920878d76e7f24a9ca2"
            }
          },
          "metadata": {}
        },
        {
          "output_type": "stream",
          "name": "stdout",
          "text": [
            "\n"
          ]
        },
        {
          "output_type": "display_data",
          "data": {
            "text/plain": [
              "HBox(children=(FloatProgress(value=0.0, max=400.0), HTML(value='')))"
            ],
            "application/vnd.jupyter.widget-view+json": {
              "version_major": 2,
              "version_minor": 0,
              "model_id": "2181c545c89f4434aab66b5383e8b97a"
            }
          },
          "metadata": {}
        },
        {
          "output_type": "stream",
          "name": "stdout",
          "text": [
            "\n"
          ]
        }
      ]
    },
    {
      "cell_type": "code",
      "source": [
        "trainer.train()"
      ],
      "metadata": {
        "colab": {
          "base_uri": "https://localhost:8080/",
          "height": 343
        },
        "id": "CbjSsNW1n8Q5",
        "outputId": "1c688a85-5baf-4875-9b7e-0bab6a6ea82a"
      },
      "execution_count": null,
      "outputs": [
        {
          "output_type": "display_data",
          "data": {
            "text/plain": [
              "<IPython.core.display.HTML object>"
            ],
            "text/html": [
              "\n",
              "    <div>\n",
              "        <style>\n",
              "            /* Turns off some styling */\n",
              "            progress {\n",
              "                /* gets rid of default border in Firefox and Opera. */\n",
              "                border: none;\n",
              "                /* Needs to be in here for Safari polyfill so background images work as expected. */\n",
              "                background-size: auto;\n",
              "            }\n",
              "        </style>\n",
              "      \n",
              "      <progress value='451' max='1000' style='width:300px; height:20px; vertical-align: middle;'></progress>\n",
              "      [ 451/1000 15:05:53 < 18:27:39, 0.01 it/s, Epoch 0.00/1]\n",
              "    </div>\n",
              "    <table border=\"1\" class=\"dataframe\">\n",
              "  <thead>\n",
              "    <tr style=\"text-align: left;\">\n",
              "      <th>Step</th>\n",
              "      <th>Training Loss</th>\n",
              "      <th>Validation Loss</th>\n",
              "      <th>Runtime</th>\n",
              "      <th>Samples Per Second</th>\n",
              "    </tr>\n",
              "  </thead>\n",
              "  <tbody>\n",
              "    <tr>\n",
              "      <td>50</td>\n",
              "      <td>3.106000</td>\n",
              "      <td>2.861948</td>\n",
              "      <td>6825.477800</td>\n",
              "      <td>58.539000</td>\n",
              "    </tr>\n",
              "    <tr>\n",
              "      <td>100</td>\n",
              "      <td>2.939600</td>\n",
              "      <td>2.796834</td>\n",
              "      <td>6827.933900</td>\n",
              "      <td>58.518000</td>\n",
              "    </tr>\n",
              "    <tr>\n",
              "      <td>150</td>\n",
              "      <td>2.915600</td>\n",
              "      <td>2.738439</td>\n",
              "      <td>6723.442800</td>\n",
              "      <td>59.428000</td>\n",
              "    </tr>\n",
              "    <tr>\n",
              "      <td>200</td>\n",
              "      <td>2.751900</td>\n",
              "      <td>2.716185</td>\n",
              "      <td>6744.408100</td>\n",
              "      <td>59.243000</td>\n",
              "    </tr>\n",
              "    <tr>\n",
              "      <td>250</td>\n",
              "      <td>2.887100</td>\n",
              "      <td>2.693067</td>\n",
              "      <td>6640.226400</td>\n",
              "      <td>60.172000</td>\n",
              "    </tr>\n",
              "    <tr>\n",
              "      <td>300</td>\n",
              "      <td>2.734300</td>\n",
              "      <td>2.686414</td>\n",
              "      <td>6711.262200</td>\n",
              "      <td>59.536000</td>\n",
              "    </tr>\n",
              "    <tr>\n",
              "      <td>350</td>\n",
              "      <td>2.706100</td>\n",
              "      <td>2.670737</td>\n",
              "      <td>6838.147500</td>\n",
              "      <td>58.431000</td>\n",
              "    </tr>\n",
              "    <tr>\n",
              "      <td>400</td>\n",
              "      <td>2.781900</td>\n",
              "      <td>2.661411</td>\n",
              "      <td>6826.829400</td>\n",
              "      <td>58.528000</td>\n",
              "    </tr>\n",
              "  </tbody>\n",
              "</table><p>\n",
              "    <div>\n",
              "        <style>\n",
              "            /* Turns off some styling */\n",
              "            progress {\n",
              "                /* gets rid of default border in Firefox and Opera. */\n",
              "                border: none;\n",
              "                /* Needs to be in here for Safari polyfill so background images work as expected. */\n",
              "                background-size: auto;\n",
              "            }\n",
              "        </style>\n",
              "      \n",
              "      <progress value='13749' max='24973' style='width:300px; height:20px; vertical-align: middle;'></progress>\n",
              "      [13749/24973 1:02:27 < 50:59, 3.67 it/s]\n",
              "    </div>\n",
              "    "
            ]
          },
          "metadata": {}
        }
      ]
    },
    {
      "cell_type": "code",
      "source": [
        "\"\"\"\n",
        "checkpoint = '/drive/My Drive/pretraining/domain-pretraining/checkpoint-400'\n",
        "\n",
        "model_adapted = AutoModelForMaskedLM.from_pretrained(checkpoint)\n",
        "tokenizer_adapted = AutoTokenizer.from_pretrained(checkpoint)\n",
        "model_adapted = model_adapted.to(device)\n",
        "\"\"\""
      ],
      "metadata": {
        "id": "mNMZUNYstQto"
      },
      "execution_count": null,
      "outputs": []
    }
  ]
}