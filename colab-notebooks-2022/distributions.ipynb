{
  "cells": [
    {
      "cell_type": "code",
      "execution_count": 1,
      "metadata": {
        "colab": {
          "base_uri": "https://localhost:8080/"
        },
        "id": "-KdAfXOs39IT",
        "outputId": "d96ddf7c-9dbc-4eea-8d4d-67ee0a1c2029"
      },
      "outputs": [
        {
          "output_type": "stream",
          "name": "stdout",
          "text": [
            "Drive already mounted at /drive; to attempt to forcibly remount, call drive.mount(\"/drive\", force_remount=True).\n"
          ]
        }
      ],
      "source": [
        "import numpy as np\n",
        "import pandas as pd\n",
        "from matplotlib import pyplot as plt\n",
        "\n",
        "from google.colab import auth\n",
        "from google.auth import default\n",
        "auth.authenticate_user()\n",
        "import gspread\n",
        "from oauth2client.client import GoogleCredentials\n",
        "from google.colab import drive\n",
        "drive.mount('/drive')\n",
        "\n",
        "creds, _ = default()\n",
        "gc = gspread.authorize(creds)"
      ]
    },
    {
      "cell_type": "code",
      "execution_count": 3,
      "metadata": {
        "id": "o3WAk-_C9rWv"
      },
      "outputs": [],
      "source": [
        "columns = ['Fact Checked Claim Index', 'Podcast Claim Index', 'Cosine Similarity Score']\n",
        "fact_checked_claims_fp = '/drive/My Drive/DSN/matched_claims_context_2.txt'\n",
        "claims_df = pd.read_csv(fact_checked_claims_fp, names = columns)\n",
        "sorted_mc_df = claims_df.sort_values(by=['Cosine Similarity Score'], ascending=False)[:len(claims_df)]"
      ]
    },
    {
      "cell_type": "code",
      "execution_count": 25,
      "metadata": {
        "id": "5J7HxWQI2qSt"
      },
      "outputs": [],
      "source": [
        "kb_claims_filepath = '/drive/MyDrive/DSN/politifact_filtered_noflips.csv'\n",
        "#podcast_claims_filepath = '/drive/MyDrive/DSN/transcript_claims_context_2.tsv'\n",
        "podcast_claims_filepath = '/drive/MyDrive/spotify-misinformation/preprocessing-output/podcast_claims_context_2_reupload.tsv'\n",
        "\n",
        "matched_claims_filepath = '/drive/MyDrive/DSN/matched_claims_context_2.txt'\n",
        "#podcast_claims_filepath = '/drive/MyDrive/DSN/matched_claims_context_2.txt'\n",
        "\n",
        "# utility functions to read data\n",
        "\n",
        "claims_df = pd.read_csv(kb_claims_filepath)\n",
        "\n",
        "\"\"\"\n",
        "\n",
        "pc_claims = []\n",
        "\n",
        "# with open(podcast_claims_filepath, 'r') as all_transcripts:\n",
        "#   for idx, line in enumerate(all_transcripts):\n",
        "#     # split_line = line.strip().split(\"\\t\")\n",
        "#     pc_claims.append(line.strip().split(\"\\t\"))\n",
        "\n",
        "with open(podcast_claims_filepath, 'r') as all_transcripts:\n",
        "  for idx, line in enumerate(all_transcripts):\n",
        "    #split_line = line.strip().split(\"\\t\")\n",
        "    pc_claims.append(line.strip().split(\"\\t\"))\n",
        "\"\"\"\n",
        "\n",
        "def get_kb_claim(kb_idx):\n",
        "  return claims_df['Statement'][int(kb_idx)]\n",
        "\n",
        "def get_pc_claim(pc_idx):\n",
        "  return \".\".join(pc_claims[int(pc_idx)][2:])\n",
        "\n",
        "def get_kb_claim_date(kb_idx):\n",
        "  return claims_df['Date'][int(kb_idx)]\n",
        "\n",
        "def get_center_claim(pc_idx):\n",
        "  return pc_claims[int(pc_idx)][4]\n",
        "\n",
        "def get_show_uri(pc_idx):\n",
        "  return pc_claims[int(pc_idx)][0]\n",
        "\n",
        "def get_ep_uri(pc_idx):\n",
        "  return pc_claims[int(pc_idx)][1]"
      ]
    },
    {
      "cell_type": "code",
      "source": [
        "def get_full_df(raw_claims_df, labeled_df):\n",
        "\n",
        "  \"\"\"\n",
        "  Retrieve show/episode (URI) metadata from pairs that have been annotated\n",
        "\n",
        "  raw_claims_df: Pandas df object - (larger) dataset containing unmatched claims\n",
        "  labeled_df: Pandas df object - (smaller) dataset with annotated samples\n",
        "  \"\"\"\n",
        "\n",
        "  raw_claims_df = raw_claims_df.reset_index()\n",
        "  raw_claims_df['Stance Agreement'] = -1 # Initialize all as unlabeled, get labels from annotations below\n",
        "\n",
        "  tuples_3d_list = []\n",
        "  for i in range(0,len(labeled_df)):\n",
        "    tuple_3d = (labeled_df['Fact Checked Claim Index'][i], labeled_df['Podcast Claim Index'][i], labeled_df['Stance Agreement'][i])\n",
        "    tuples_3d_list.append(tuple_3d)\n",
        "\n",
        "    claim_idx = tuples_3d_list[i][0]\n",
        "    podcast_idx = tuples_3d_list[i][1]\n",
        "    pair_stance = tuples_3d_list[i][2]\n",
        "\n",
        "    # Getting corresponding row\n",
        "    row_idx = raw_claims_df[(raw_claims_df['Podcast Claim Index'] == podcast_idx)].index.tolist()\n",
        "\n",
        "    raw_claims_df['Stance Agreement'][row_idx] = pair_stance\n",
        "  \n",
        "  return raw_claims_df"
      ],
      "metadata": {
        "id": "puF5yl2JV-Bm"
      },
      "execution_count": 29,
      "outputs": []
    },
    {
      "cell_type": "code",
      "source": [
        "podcast_claims_filepath = '/drive/MyDrive/spotify-misinformation/preprocessing-output/podcast_claims_context_2_reupload.tsv'\n",
        "pc_claims_concat = []\n",
        "\n",
        "with open(podcast_claims_filepath, 'r') as all_transcripts:\n",
        "  for idx, line in enumerate(all_transcripts):\n",
        "    pc_claims_concat.append(line.strip().split(\"\\t\"))\n",
        "    pc_claims_concat[idx][2] = \".\".join(pc_claims_concat[int(idx)][2:])\n",
        "    del pc_claims_concat[idx][3:]"
      ],
      "metadata": {
        "id": "4Z8JdqB9LBgV"
      },
      "execution_count": 22,
      "outputs": []
    },
    {
      "cell_type": "code",
      "source": [
        "raw_claims_df['Podcast Claim Index'] = np.arange(len(raw_claims_df))\n",
        "len(raw_claims_df)"
      ],
      "metadata": {
        "colab": {
          "base_uri": "https://localhost:8080/"
        },
        "id": "8ZXCbQCcW_d0",
        "outputId": "57c70ed5-0e9e-45b3-f923-5cb2ac211461"
      },
      "execution_count": 45,
      "outputs": [
        {
          "output_type": "execute_result",
          "data": {
            "text/plain": [
              "12486207"
            ]
          },
          "metadata": {},
          "execution_count": 45
        }
      ]
    },
    {
      "cell_type": "markdown",
      "metadata": {
        "id": "qtsKK5p6KiSw"
      },
      "source": [
        "# Distribution for all pairs in original dataset "
      ]
    },
    {
      "cell_type": "code",
      "execution_count": 96,
      "metadata": {
        "colab": {
          "base_uri": "https://localhost:8080/",
          "height": 298
        },
        "id": "6aHMLwlHFBK_",
        "outputId": "8399f339-87c9-4c38-b7a2-91ef179eb018"
      },
      "outputs": [
        {
          "output_type": "display_data",
          "data": {
            "text/plain": [
              "<Figure size 432x288 with 1 Axes>"
            ],
            "image/png": "[encoded data removed]"
          },
          "metadata": {
            "needs_background": "light"
          }
        }
      ],
      "source": [
        "plt.hist(sorted_mc_df['Cosine Similarity Score'], bins = 50)\n",
        "plt.title('SpotiFact Distribution (pairs with scores > 0.4)', fontsize=10)\n",
        "plt.xlabel('Scores', fontsize=15)\n",
        "plt.ylabel('Total', fontsize=15)\n",
        "plt.savefig('/drive/My Drive/DSN/distribution-full-dataset.png', dpi=500)"
      ]
    },
    {
      "cell_type": "markdown",
      "metadata": {
        "id": "tQABznNp3A3l"
      },
      "source": [
        "# Distribution for top 10k pairs"
      ]
    },
    {
      "cell_type": "code",
      "execution_count": 97,
      "metadata": {
        "colab": {
          "base_uri": "https://localhost:8080/",
          "height": 298
        },
        "id": "c-FSdnJm27_X",
        "outputId": "c7b59bdc-3c04-4e8d-b4e3-29b18836e33b"
      },
      "outputs": [
        {
          "output_type": "display_data",
          "data": {
            "text/plain": [
              "<Figure size 432x288 with 1 Axes>"
            ],
            "image/png": "[encoded data removed]"
          },
          "metadata": {
            "needs_background": "light"
          }
        }
      ],
      "source": [
        "top_10k_df = sorted_mc_df[:10000]\n",
        "plt.hist(top_10k_df['Cosine Similarity Score'], bins = 50)\n",
        "plt.title('SpotiFact Distribution Top 10K Pairs', fontsize=10)\n",
        "plt.xlabel('Scores', fontsize=15)\n",
        "plt.ylabel('Total', fontsize=15)\n",
        "plt.savefig('/drive/My Drive/DSN/distribution-10k.png', dpi=500)"
      ]
    },
    {
      "cell_type": "code",
      "execution_count": 26,
      "metadata": {
        "id": "eUb_33MdoKgM"
      },
      "outputs": [],
      "source": [
        "def df_from_google_sheets(path, columns):\n",
        "\n",
        "  \"\"\"\n",
        "  Get a pandas dataframe object from Google Sheets\n",
        "  \"\"\"\n",
        "\n",
        "  worksheet = gc.open(path).sheet1\n",
        "  rows = worksheet.get_all_values()\n",
        "  rows = [x[:5] for x in rows]\n",
        "\n",
        "  return pd.DataFrame.from_records(rows[1:], columns=columns)\n",
        "\n",
        "def get_labels(matched_claims_df, k, labeled_df):\n",
        "\n",
        "  \"\"\"\n",
        "  Retrieve labels from pairs that have been annotated\n",
        "\n",
        "  matched_claims_df: Pandas df object - (larger) dataset containing pairs \n",
        "  k: top k desired samples from claims_df\n",
        "  labeled_df: Pandas df object - (smaller) dataset with annotated samples\n",
        "  \"\"\"\n",
        "\n",
        "  top_k_df = matched_claims_df[:k]\n",
        "  top_k_df = top_k_df.reset_index()\n",
        "  top_k_df['Stance Agreement'] = -1 # Initialize all as unlabeled, get labels from annotations below\n",
        "  top_k_df_copy = top_k_df.copy()\n",
        "\n",
        "  tuples_3d_list = []\n",
        "  for i in range(0,len(labeled_df)):\n",
        "    tuple_3d = (labeled_df['Fact Checked Claim Index'][i], labeled_df['Podcast Claim Index'][i], labeled_df['Stance Agreement'][i])\n",
        "    tuples_3d_list.append(tuple_3d)\n",
        "\n",
        "    claim_idx = tuples_3d_list[i][0]\n",
        "    podcast_idx = tuples_3d_list[i][1]\n",
        "    pair_stance = tuples_3d_list[i][2]\n",
        "\n",
        "    # Getting corresponding row\n",
        "    row_idx = top_k_df[(top_k_df['Fact Checked Claim Index'] == claim_idx) & (top_k_df['Podcast Claim Index'] == podcast_idx)].index.tolist()\n",
        "\n",
        "    top_k_df['Stance Agreement'][row_idx] = pair_stance\n",
        "  \n",
        "  return top_k_df"
      ]
    },
    {
      "cell_type": "markdown",
      "metadata": {
        "id": "QwosK9SHQ7iO"
      },
      "source": [
        "# Importing Labeled Data"
      ]
    },
    {
      "cell_type": "code",
      "execution_count": 27,
      "metadata": {
        "colab": {
          "base_uri": "https://localhost:8080/",
          "height": 204
        },
        "id": "sxq4sCEyimRW",
        "outputId": "c683cddf-5a2c-4205-f5d6-8233c6cb3f19"
      },
      "outputs": [
        {
          "output_type": "execute_result",
          "data": {
            "text/plain": [
              "   Unnamed: 0  Fact Checked Claim Index  Podcast Claim Index  Stance Agreement\n",
              "0           0                     15673                13337                 5\n",
              "1           1                     15508              2494200                 2\n",
              "2           2                       912              3078202                 5\n",
              "3           3                     18351              4160261                 5\n",
              "4           4                      7041             10930884                 3"
            ],
            "text/html": [
              "\n",
              "  <div id=\"df-4296fe60-86ae-4d7e-bd71-ca0924fc179f\">\n",
              "    <div class=\"colab-df-container\">\n",
              "      <div>\n",
              "<style scoped>\n",
              "    .dataframe tbody tr th:only-of-type {\n",
              "        vertical-align: middle;\n",
              "    }\n",
              "\n",
              "    .dataframe tbody tr th {\n",
              "        vertical-align: top;\n",
              "    }\n",
              "\n",
              "    .dataframe thead th {\n",
              "        text-align: right;\n",
              "    }\n",
              "</style>\n",
              "<table border=\"1\" class=\"dataframe\">\n",
              "  <thead>\n",
              "    <tr style=\"text-align: right;\">\n",
              "      <th></th>\n",
              "      <th>Unnamed: 0</th>\n",
              "      <th>Fact Checked Claim Index</th>\n",
              "      <th>Podcast Claim Index</th>\n",
              "      <th>Stance Agreement</th>\n",
              "    </tr>\n",
              "  </thead>\n",
              "  <tbody>\n",
              "    <tr>\n",
              "      <th>0</th>\n",
              "      <td>0</td>\n",
              "      <td>15673</td>\n",
              "      <td>13337</td>\n",
              "      <td>5</td>\n",
              "    </tr>\n",
              "    <tr>\n",
              "      <th>1</th>\n",
              "      <td>1</td>\n",
              "      <td>15508</td>\n",
              "      <td>2494200</td>\n",
              "      <td>2</td>\n",
              "    </tr>\n",
              "    <tr>\n",
              "      <th>2</th>\n",
              "      <td>2</td>\n",
              "      <td>912</td>\n",
              "      <td>3078202</td>\n",
              "      <td>5</td>\n",
              "    </tr>\n",
              "    <tr>\n",
              "      <th>3</th>\n",
              "      <td>3</td>\n",
              "      <td>18351</td>\n",
              "      <td>4160261</td>\n",
              "      <td>5</td>\n",
              "    </tr>\n",
              "    <tr>\n",
              "      <th>4</th>\n",
              "      <td>4</td>\n",
              "      <td>7041</td>\n",
              "      <td>10930884</td>\n",
              "      <td>3</td>\n",
              "    </tr>\n",
              "  </tbody>\n",
              "</table>\n",
              "</div>\n",
              "      <button class=\"colab-df-convert\" onclick=\"convertToInteractive('df-4296fe60-86ae-4d7e-bd71-ca0924fc179f')\"\n",
              "              title=\"Convert this dataframe to an interactive table.\"\n",
              "              style=\"display:none;\">\n",
              "        \n",
              "  <svg xmlns=\"http://www.w3.org/2000/svg\" height=\"24px\"viewBox=\"0 0 24 24\"\n",
              "       width=\"24px\">\n",
              "    <path d=\"M0 0h24v24H0V0z\" fill=\"none\"/>\n",
              "    <path d=\"M18.56 5.44l.94 2.06.94-2.06 2.06-.94-2.06-.94-.94-2.06-.94 2.06-2.06.94zm-11 1L8.5 8.5l.94-2.06 2.06-.94-2.06-.94L8.5 2.5l-.94 2.06-2.06.94zm10 10l.94 2.06.94-2.06 2.06-.94-2.06-.94-.94-2.06-.94 2.06-2.06.94z\"/><path d=\"M17.41 7.96l-1.37-1.37c-.4-.4-.92-.59-1.43-.59-.52 0-1.04.2-1.43.59L10.3 9.45l-7.72 7.72c-.78.78-.78 2.05 0 2.83L4 21.41c.39.39.9.59 1.41.59.51 0 1.02-.2 1.41-.59l7.78-7.78 2.81-2.81c.8-.78.8-2.07 0-2.86zM5.41 20L4 18.59l7.72-7.72 1.47 1.35L5.41 20z\"/>\n",
              "  </svg>\n",
              "      </button>\n",
              "      \n",
              "  <style>\n",
              "    .colab-df-container {\n",
              "      display:flex;\n",
              "      flex-wrap:wrap;\n",
              "      gap: 12px;\n",
              "    }\n",
              "\n",
              "    .colab-df-convert {\n",
              "      background-color: #E8F0FE;\n",
              "      border: none;\n",
              "      border-radius: 50%;\n",
              "      cursor: pointer;\n",
              "      display: none;\n",
              "      fill: #1967D2;\n",
              "      height: 32px;\n",
              "      padding: 0 0 0 0;\n",
              "      width: 32px;\n",
              "    }\n",
              "\n",
              "    .colab-df-convert:hover {\n",
              "      background-color: #E2EBFA;\n",
              "      box-shadow: 0px 1px 2px rgba(60, 64, 67, 0.3), 0px 1px 3px 1px rgba(60, 64, 67, 0.15);\n",
              "      fill: #174EA6;\n",
              "    }\n",
              "\n",
              "    [theme=dark] .colab-df-convert {\n",
              "      background-color: #3B4455;\n",
              "      fill: #D2E3FC;\n",
              "    }\n",
              "\n",
              "    [theme=dark] .colab-df-convert:hover {\n",
              "      background-color: #434B5C;\n",
              "      box-shadow: 0px 1px 3px 1px rgba(0, 0, 0, 0.15);\n",
              "      filter: drop-shadow(0px 1px 2px rgba(0, 0, 0, 0.3));\n",
              "      fill: #FFFFFF;\n",
              "    }\n",
              "  </style>\n",
              "\n",
              "      <script>\n",
              "        const buttonEl =\n",
              "          document.querySelector('#df-4296fe60-86ae-4d7e-bd71-ca0924fc179f button.colab-df-convert');\n",
              "        buttonEl.style.display =\n",
              "          google.colab.kernel.accessAllowed ? 'block' : 'none';\n",
              "\n",
              "        async function convertToInteractive(key) {\n",
              "          const element = document.querySelector('#df-4296fe60-86ae-4d7e-bd71-ca0924fc179f');\n",
              "          const dataTable =\n",
              "            await google.colab.kernel.invokeFunction('convertToInteractive',\n",
              "                                                     [key], {});\n",
              "          if (!dataTable) return;\n",
              "\n",
              "          const docLinkHtml = 'Like what you see? Visit the ' +\n",
              "            '<a target=\"_blank\" href=https://colab.research.google.com/notebooks/data_table.ipynb>data table notebook</a>'\n",
              "            + ' to learn more about interactive tables.';\n",
              "          element.innerHTML = '';\n",
              "          dataTable['output_type'] = 'display_data';\n",
              "          await google.colab.output.renderOutput(dataTable, element);\n",
              "          const docLink = document.createElement('div');\n",
              "          docLink.innerHTML = docLinkHtml;\n",
              "          element.appendChild(docLink);\n",
              "        }\n",
              "      </script>\n",
              "    </div>\n",
              "  </div>\n",
              "  "
            ]
          },
          "metadata": {},
          "execution_count": 27
        }
      ],
      "source": [
        "# Load manually labeled data\n",
        "labeling_phase = 'top_3000_context_2_single_sentence_'\n",
        "column_names = ['Fact Checked Claim Index', 'Podcast Claim Index', 'Fact Checked Claim', 'Podcast Claim', 'Stance Agreement']\n",
        "\n",
        "labeled_path = '/drive/My Drive/spotify-misinformation/labeling-output/manually-labeled-matched-pairs.csv'\n",
        "labeled_df_2021 = pd.read_csv(labeled_path)\n",
        "\n",
        "omar_individual = df_from_google_sheets('top_3000_context_2_single_sentence_omar_individual', columns=column_names)\n",
        "omar_individual_data = omar_individual[200:800].copy()\n",
        "jon_individual = df_from_google_sheets('top_3000_context_2_single_sentence_jon_individual', columns=column_names)\n",
        "jon_individual_data = jon_individual[200:800].copy()\n",
        "\"\"\"\n",
        "#abhijeet_individual = df_from_google_sheets('top_3000_context_2_single_sentence_abhijeet_individual', columns=column_names)\n",
        "#abhijeet_individual_data = abhijeet_individual[200:800].copy()\n",
        "\"\"\"\n",
        "frames = [labeled_df_2021, omar_individual_data, jon_individual_data]\n",
        "labeled_df = pd.concat(frames)\n",
        "\n",
        "labeled_df = labeled_df.drop(['Fact Checked Claim', 'Podcast Claim'], axis=1)\n",
        "labeled_df.to_csv('/drive/My Drive/spotifact-labeled-data-omar-jon.csv') \n",
        "labeled_path_2 = '/drive/My Drive/spotifact-labeled-data-omar-jon.csv'\n",
        "labeled_df = pd.read_csv(labeled_path_2)\n",
        "#labeled_df = labeled_df.drop(labeled_df[labeled_df['Stance Agreement']==-1].index) # Abhijeet's unlabeled data\n",
        "#labeled_df[['Stance Agreement']] = labeled_df[['Stance Agreement']].astype('int')\n",
        "labeled_df.head()"
      ]
    },
    {
      "cell_type": "markdown",
      "metadata": {
        "id": "AnrpmvLZxzY_"
      },
      "source": [
        "# Distributions from top 3000 of labeled and unlabeled data (2021 + 2022)"
      ]
    },
    {
      "cell_type": "code",
      "execution_count": 100,
      "metadata": {
        "colab": {
          "base_uri": "https://localhost:8080/",
          "height": 358
        },
        "id": "qg3Da_SAMVyE",
        "outputId": "b0225434-e332-40b4-fa97-09675a7fcf91"
      },
      "outputs": [
        {
          "output_type": "stream",
          "name": "stderr",
          "text": [
            "/usr/local/lib/python3.7/dist-packages/ipykernel_launcher.py:40: SettingWithCopyWarning: \n",
            "A value is trying to be set on a copy of a slice from a DataFrame\n",
            "\n",
            "See the caveats in the documentation: https://pandas.pydata.org/pandas-docs/stable/user_guide/indexing.html#returning-a-view-versus-a-copy\n"
          ]
        },
        {
          "output_type": "display_data",
          "data": {
            "text/plain": [
              "<Figure size 432x288 with 1 Axes>"
            ],
            "image/png": "[encoded data removed]"
          },
          "metadata": {
            "needs_background": "light"
          }
        }
      ],
      "source": [
        "# Get labels for top 3k pairs of similarity scores\n",
        "top_3k_df = get_labels(sorted_mc_df, 3000, labeled_df)\n",
        "\n",
        "# For Plot Legend\n",
        "top_3k_df.loc[top_3k_df[\"Stance Agreement\"] == -1, \"Stance Agreement\"] = \"Not Yet Labeled\"\n",
        "top_3k_df.loc[top_3k_df[\"Stance Agreement\"] == 1, \"Stance Agreement\"] = \"Agreement\"\n",
        "top_3k_df.loc[top_3k_df[\"Stance Agreement\"] == 2, \"Stance Agreement\"] = \"Partial Agreement\"\n",
        "top_3k_df.loc[top_3k_df[\"Stance Agreement\"] == 3, \"Stance Agreement\"] = \"Disagreement\"\n",
        "top_3k_df.loc[top_3k_df[\"Stance Agreement\"] == 4, \"Stance Agreement\"] = \"Partial Disagreement\"\n",
        "top_3k_df.loc[top_3k_df[\"Stance Agreement\"] == 5, \"Stance Agreement\"] = \"Unrelated\"\n",
        "top_3k_df.loc[top_3k_df[\"Stance Agreement\"] == 6, \"Stance Agreement\"] = \"Inconclusive\"\n",
        "\n",
        "top_3k_df = top_3k_df.drop(['index', 'Fact Checked Claim Index', 'Podcast Claim Index'], axis=1)\n",
        "decimals = 2\n",
        "top_3k_df['Cosine Similarity Score'] = top_3k_df['Cosine Similarity Score'].apply(lambda x: round(x, decimals))\n",
        "dfp = top_3k_df.pivot_table(index='Cosine Similarity Score', columns=['Stance Agreement'], aggfunc=len)\n",
        "\n",
        "# Plot the dataframe\n",
        "dfp.plot(kind='bar', stacked=True, ylabel='Total', xlabel='Scores',\n",
        "         title='Distribution by Scores and Labels', rot=0)\n",
        "plt.xticks(fontsize=5)\n",
        "plt.savefig('/drive/My Drive/DSN/distribution-labeled-3k.png', dpi=500)"
      ]
    },
    {
      "cell_type": "markdown",
      "metadata": {
        "id": "1ekAbw6hw1aB"
      },
      "source": [
        "# Distribution for Total Labeled Data including Predictions (2022)"
      ]
    },
    {
      "cell_type": "code",
      "execution_count": 101,
      "metadata": {
        "id": "wQpbzmGnN4xw"
      },
      "outputs": [],
      "source": [
        "# Include 2022 predictions data for analysis\n",
        "omar_predictions_data = df_from_google_sheets('spotifact-predictions-labeling-omar', columns=column_names)\n",
        "omar_predictions_data_2 = df_from_google_sheets('spotifact-predictions-labeling-omar-2', columns=column_names)\n",
        "omar_predictions_data_retrain = df_from_google_sheets('spotifact-predictions-labeling-omar-retrain', columns=column_names)\n",
        "frames = [labeled_df, omar_predictions_data, omar_predictions_data_2, omar_predictions_data_retrain]\n",
        "total_labeled_df = pd.concat(frames) # Concatenated df with overlap and recent Jon (Omar) and Omar's 2022 labels\n",
        "total_labeled_df = total_labeled_df.reset_index()\n",
        "total_labeled_df = total_labeled_df.drop(['index', 'Fact Checked Claim', 'Podcast Claim'], axis=1)\n",
        "total_labeled_df.to_csv('/drive/My Drive/spotifact-labeled-data-2022.csv') \n",
        "labeled_path = '/drive/My Drive/spotifact-labeled-data-2022.csv'\n",
        "total_labeled_df = pd.read_csv(labeled_path)"
      ]
    },
    {
      "cell_type": "code",
      "execution_count": 102,
      "metadata": {
        "colab": {
          "base_uri": "https://localhost:8080/",
          "height": 358
        },
        "id": "7V12szBNLEMd",
        "outputId": "b0c92a30-614b-4f09-d6b2-28f4b99355f1"
      },
      "outputs": [
        {
          "output_type": "stream",
          "name": "stderr",
          "text": [
            "/usr/local/lib/python3.7/dist-packages/ipykernel_launcher.py:40: SettingWithCopyWarning: \n",
            "A value is trying to be set on a copy of a slice from a DataFrame\n",
            "\n",
            "See the caveats in the documentation: https://pandas.pydata.org/pandas-docs/stable/user_guide/indexing.html#returning-a-view-versus-a-copy\n"
          ]
        },
        {
          "output_type": "display_data",
          "data": {
            "text/plain": [
              "<Figure size 432x288 with 1 Axes>"
            ],
            "image/png": "[encoded data removed]"
          },
          "metadata": {
            "needs_background": "light"
          }
        }
      ],
      "source": [
        "# Get labels for top 123k pairs of similarity scores\n",
        "top_123k_df = get_labels(sorted_mc_df, 123000, total_labeled_df)\n",
        "\n",
        "# For Plot Legend\n",
        "top_123k_df.loc[top_123k_df[\"Stance Agreement\"] == -1, \"Stance Agreement\"] = \"Not Yet Labeled\"\n",
        "top_123k_df.loc[top_123k_df[\"Stance Agreement\"] == 1, \"Stance Agreement\"] = \"Agreement\"\n",
        "top_123k_df.loc[top_123k_df[\"Stance Agreement\"] == 2, \"Stance Agreement\"] = \"Partial Agreement\"\n",
        "top_123k_df.loc[top_123k_df[\"Stance Agreement\"] == 3, \"Stance Agreement\"] = \"Disagreement\"\n",
        "top_123k_df.loc[top_123k_df[\"Stance Agreement\"] == 4, \"Stance Agreement\"] = \"Partial Disagreement\"\n",
        "top_123k_df.loc[top_123k_df[\"Stance Agreement\"] == 5, \"Stance Agreement\"] = \"Unrelated\"\n",
        "top_123k_df.loc[top_123k_df[\"Stance Agreement\"] == 6, \"Stance Agreement\"] = \"Inconclusive\"\n",
        "\n",
        "top_123k_df = top_123k_df.drop(['index', 'Fact Checked Claim Index', 'Podcast Claim Index'], axis=1)\n",
        "decimals = 2\n",
        "top_123k_df['Cosine Similarity Score'] = top_123k_df['Cosine Similarity Score'].apply(lambda x: round(x, decimals))\n",
        "dfp = top_123k_df.pivot_table(index='Cosine Similarity Score', columns=['Stance Agreement'], aggfunc=len)\n",
        "\n",
        "# Plot the dataframe\n",
        "dfp.plot(kind='bar', stacked=True, ylabel='Total', xlabel='Scores',\n",
        "         title='Distribution by Scores and Labels', rot=0)\n",
        "plt.xticks(fontsize=5)\n",
        "plt.savefig('/drive/My Drive/DSN/distribution-labeled-123k.png', dpi=500)"
      ]
    },
    {
      "cell_type": "markdown",
      "metadata": {
        "id": "QqnjCQ1TOr7U"
      },
      "source": [
        "# Precision/Recall Analysis of Classifier"
      ]
    },
    {
      "cell_type": "code",
      "execution_count": 103,
      "metadata": {
        "colab": {
          "base_uri": "https://localhost:8080/"
        },
        "id": "w68nx1B5OrAd",
        "outputId": "7de6344d-55f3-4277-f942-05afa5ea138e"
      },
      "outputs": [
        {
          "output_type": "stream",
          "name": "stdout",
          "text": [
            "Precision after 1 round of AL:  0.1897810218978102\n",
            "Precision after 2 rounds of AL:  0.2054794520547945\n",
            "Precision after 3 rounds of AL: 0.28205128205128205\n"
          ]
        }
      ],
      "source": [
        "# Precision \n",
        "rd1_precision = (omar_predictions_data['Stance Agreement'].value_counts()[2] + \n",
        "                 omar_predictions_data['Stance Agreement'].value_counts()[3])/(len(omar_predictions_data))\n",
        "rd2_precision = (omar_predictions_data_2['Stance Agreement'].value_counts()[1] + \n",
        "                 omar_predictions_data_2['Stance Agreement'].value_counts()[3])/(len(omar_predictions_data_2))\n",
        "retrain_precision = (omar_predictions_data_retrain['Stance Agreement'].value_counts()[1]\n",
        "                     + omar_predictions_data_retrain['Stance Agreement'].value_counts()[3])/(len(omar_predictions_data_retrain))\n",
        "print(\"Precision after 1 round of AL: \", rd1_precision)\n",
        "print(\"Precision after 2 rounds of AL: \", rd2_precision)\n",
        "print(\"Precision after 3 rounds of AL:\", retrain_precision)"
      ]
    }
  ],
  "metadata": {
    "colab": {
      "machine_shape": "hm",
      "name": "histogram",
      "provenance": []
    },
    "kernelspec": {
      "display_name": "Python 3",
      "name": "python3"
    },
    "language_info": {
      "name": "python"
    }
  },
  "nbformat": 4,
  "nbformat_minor": 0
}