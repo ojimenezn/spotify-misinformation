{
  "nbformat": 4,
  "nbformat_minor": 0,
  "metadata": {
    "colab": {
      "name": "colab-setup.ipynb",
      "provenance": [],
      "collapsed_sections": []
    },
    "kernelspec": {
      "name": "python3",
      "display_name": "Python 3"
    },
    "language_info": {
      "name": "python"
    }
  },
  "cells": [
    {
      "cell_type": "code",
      "execution_count": 1,
      "metadata": {
        "colab": {
          "base_uri": "https://localhost:8080/"
        },
        "id": "X1Knq8sNoxIj",
        "outputId": "93278537-6789-4cfe-85c5-d148011fa5a5"
      },
      "outputs": [
        {
          "output_type": "stream",
          "name": "stdout",
          "text": [
            "Mounted at /drive\n"
          ]
        }
      ],
      "source": [
        "from os import mkdir\n",
        "from os.path import isdir\n",
        "\n",
        "from google.colab import drive\n",
        "drive.mount('/drive')"
      ]
    },
    {
      "cell_type": "code",
      "source": [
        "## Initialize and create top folder in drive\n",
        "\n",
        "parent_dir = '/drive/MyDrive/spotify-misinformation'\n",
        "\n",
        "if not isdir(parent_dir):\n",
        "  mkdir(parent_dir)\n",
        "\n",
        "## Create sub folders for each phase of project\n",
        "\n",
        "# Output for locally run preprocessing step\n",
        "\n",
        "preprocessing_output_dir = f\"{parent_dir}/preprocessing-output\"\n",
        "\n",
        "if not isdir(preprocessing_output_dir):\n",
        "  mkdir(preprocessing_output_dir)\n",
        "\n",
        "# Output for colab run claim matching\n",
        "\n",
        "matched_claims_output_dir = f\"{parent_dir}/matched-claims-output\"\n",
        "\n",
        "if not isdir(matched_claims_output_dir):\n",
        "  mkdir(matched_claims_output_dir)\n",
        "\n",
        "# Output for manual labeling phase (Optional since curated dataset provided)\n",
        "\n",
        "labeling_output_dir = f\"{parent_dir}/labeling-output\"\n",
        "\n",
        "if not isdir(labeling_output_dir):\n",
        "  mkdir(labeling_output_dir)\n",
        "\n",
        "blank_manually_labeled_datasets_dir = f\"{labeling_output_dir}/blank-manual-labeling-output\"\n",
        "\n",
        "if not isdir(blank_manually_labeled_datasets_dir):\n",
        "  mkdir(blank_manually_labeled_datasets_dir)\n",
        "\n",
        "# Output for model predictions and trained model storage\n",
        "\n",
        "modeling_output_dir = f\"{parent_dir}/modeling-output\"\n",
        "\n",
        "if not isdir(modeling_output_dir):\n",
        "  mkdir(modeling_output_dir)\n",
        "\n",
        "trained_models_output_dir = f\"{modeling_output_dir}/trained-models\"\n",
        "\n",
        "if not isdir(trained_models_output_dir):\n",
        "  mkdir(trained_models_output_dir)\n",
        "\n",
        "# Output for data analysis figures\n",
        "\n",
        "data_analysis_output_dir = f\"{parent_dir}/data-analysis-output\"\n",
        "\n",
        "if not isdir(data_analysis_output_dir):\n",
        "  mkdir(data_analysis_output_dir)"
      ],
      "metadata": {
        "id": "DgFdC-dLpQrb"
      },
      "execution_count": 9,
      "outputs": []
    },
    {
      "cell_type": "code",
      "source": [
        ""
      ],
      "metadata": {
        "id": "lNvqs_fQpmO_"
      },
      "execution_count": null,
      "outputs": []
    }
  ]
}