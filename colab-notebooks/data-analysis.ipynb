{
  "nbformat": 4,
  "nbformat_minor": 0,
  "metadata": {
    "colab": {
      "name": "data-analysis",
      "provenance": []
    },
    "kernelspec": {
      "name": "python3",
      "display_name": "Python 3"
    },
    "language_info": {
      "name": "python"
    }
  },
  "cells": [
    {
      "cell_type": "code",
      "execution_count": 12,
      "metadata": {
        "colab": {
          "base_uri": "https://localhost:8080/"
        },
        "id": "QQNXMiwIFOQF",
        "outputId": "e34953df-9184-4244-f549-660090589080"
      },
      "outputs": [
        {
          "output_type": "stream",
          "name": "stdout",
          "text": [
            "Drive already mounted at /drive; to attempt to forcibly remount, call drive.mount(\"/drive\", force_remount=True).\n"
          ]
        }
      ],
      "source": [
        "import numpy as np\n",
        "import pandas as pd\n",
        "import seaborn as sns\n",
        "import matplotlib.pyplot as plt\n",
        "from matplotlib.patches import Patch\n",
        "\n",
        "from google.colab import drive\n",
        "drive.mount('/drive')"
      ]
    },
    {
      "cell_type": "code",
      "source": [
        "## Intialize file output directories\n",
        "# From colab-setup, replace if changes were made to this file\n",
        "\n",
        "parent_dir = '/drive/MyDrive/spotify-misinformation'\n",
        "\n",
        "# Define file paths for where podcast claims and fact checked claims are located\n",
        "\n",
        "preprocessing_output_dir = f\"{parent_dir}/preprocessing-output\"\n",
        "\n",
        "fact_checked_claims_fp = f\"{preprocessing_output_dir}/politifact_filtered.csv\"\n",
        "transcript_claims_fp = f\"{preprocessing_output_dir}/podcast_claims_context_2.tsv\"\n",
        "\n",
        "# Define filepath for matched claims\n",
        "\n",
        "matched_claims_output_dir = f\"{parent_dir}/matched-claims-output\"\n",
        "matched_claims_fp = f\"{matched_claims_output_dir}/matched_claims_context_2.txt\"\n",
        "\n",
        "# Model output directories and filepath for predicted labels\n",
        "\n",
        "modeling_output_dir = f\"{parent_dir}/modeling-output\"\n",
        "\n",
        "predicted_mc_fp = f\"{modeling_output_dir}/only_predicted_label_predicted_mc_context_2.txt\"\n",
        "predicted_mc_veracity_fp = f\"{modeling_output_dir}/predicted_mc_context_2.txt\"\n",
        "\n",
        "# Define labeling directory output\n",
        "\n",
        "labeling_output_dir = f\"{parent_dir}/labeling-output\"\n",
        "manually_labelled_data_fp = f\"{labeling_output_dir}/manually-labeled-matched-pairs.csv\"\n",
        "\n",
        "# Data Analysis output dir for various figures \n",
        "\n",
        "data_analysis_output_dir = f\"{parent_dir}/data-analysis-output\""
      ],
      "metadata": {
        "id": "YEjGdTNqHtIi"
      },
      "execution_count": 15,
      "outputs": []
    },
    {
      "cell_type": "markdown",
      "source": [
        "## Manually Labeled Data Barplots\n",
        "\n"
      ],
      "metadata": {
        "id": "K766s2z4WZnd"
      }
    },
    {
      "cell_type": "code",
      "source": [
        "labeled_data = pd.read_csv(manually_labelled_data_fp)"
      ],
      "metadata": {
        "colab": {
          "base_uri": "https://localhost:8080/",
          "height": 204
        },
        "id": "qUELgfEYWcku",
        "outputId": "32a974db-98d3-4f6d-eab7-68bba5e962ee"
      },
      "execution_count": 16,
      "outputs": [
        {
          "output_type": "execute_result",
          "data": {
            "text/html": [
              "<div>\n",
              "<style scoped>\n",
              "    .dataframe tbody tr th:only-of-type {\n",
              "        vertical-align: middle;\n",
              "    }\n",
              "\n",
              "    .dataframe tbody tr th {\n",
              "        vertical-align: top;\n",
              "    }\n",
              "\n",
              "    .dataframe thead th {\n",
              "        text-align: right;\n",
              "    }\n",
              "</style>\n",
              "<table border=\"1\" class=\"dataframe\">\n",
              "  <thead>\n",
              "    <tr style=\"text-align: right;\">\n",
              "      <th></th>\n",
              "      <th>Fact Checked Claim Index</th>\n",
              "      <th>Podcast Claim Index</th>\n",
              "      <th>Fact Checked Claim</th>\n",
              "      <th>Podcast Claim</th>\n",
              "      <th>Stance Agreement</th>\n",
              "    </tr>\n",
              "  </thead>\n",
              "  <tbody>\n",
              "    <tr>\n",
              "      <th>0</th>\n",
              "      <td>15673</td>\n",
              "      <td>13337</td>\n",
              "      <td>\"When the national debt reaches $15 trillion, ...</td>\n",
              "      <td>The next day it crashed peace and safety. Is ...</td>\n",
              "      <td>5</td>\n",
              "    </tr>\n",
              "    <tr>\n",
              "      <th>1</th>\n",
              "      <td>15508</td>\n",
              "      <td>2494200</td>\n",
              "      <td>Says America spends \"over 17 percent of its GD...</td>\n",
              "      <td>We are getting sicker we spend more than we s...</td>\n",
              "      <td>2</td>\n",
              "    </tr>\n",
              "    <tr>\n",
              "      <th>2</th>\n",
              "      <td>912</td>\n",
              "      <td>3078202</td>\n",
              "      <td>“If I don’t take the vaccine, I’m at risk for ...</td>\n",
              "      <td>This is extremely uncommon and. In very very ...</td>\n",
              "      <td>5</td>\n",
              "    </tr>\n",
              "    <tr>\n",
              "      <th>3</th>\n",
              "      <td>18351</td>\n",
              "      <td>4160261</td>\n",
              "      <td>\"Law enforcement in the state of Arizona suppo...</td>\n",
              "      <td>People would like the Harvest things. What wh...</td>\n",
              "      <td>5</td>\n",
              "    </tr>\n",
              "    <tr>\n",
              "      <th>4</th>\n",
              "      <td>7041</td>\n",
              "      <td>10930884</td>\n",
              "      <td>\"Nobody dies because they don’t have access to...</td>\n",
              "      <td>But something interesting to note is that bla...</td>\n",
              "      <td>3</td>\n",
              "    </tr>\n",
              "  </tbody>\n",
              "</table>\n",
              "</div>"
            ],
            "text/plain": [
              "   Fact Checked Claim Index  ...  Stance Agreement\n",
              "0                     15673  ...                 5\n",
              "1                     15508  ...                 2\n",
              "2                       912  ...                 5\n",
              "3                     18351  ...                 5\n",
              "4                      7041  ...                 3\n",
              "\n",
              "[5 rows x 5 columns]"
            ]
          },
          "metadata": {},
          "execution_count": 16
        }
      ]
    },
    {
      "cell_type": "code",
      "source": [
        "sns.set_theme(style=\"whitegrid\")\n",
        "ax = sns.barplot(x=labeled_data['Stance Agreement'].value_counts().index, y=labeled_data['Stance Agreement'].value_counts())\n",
        "\n",
        "ax.set_xticklabels(ax.get_xticklabels(), fontsize=5)\n",
        "ax.set_ylabel(\"Total\", fontsize = 10)\n",
        "\n",
        "fig = ax.get_figure()\n",
        "fig.savefig(f\"{data_analysis_output_dir}/manually-labeled-annotations-barplot.png\", dpi=500)"
      ],
      "metadata": {
        "colab": {
          "base_uri": "https://localhost:8080/",
          "height": 263
        },
        "id": "bGZ7UPNsX8Yn",
        "outputId": "146aafc7-db0f-470a-99ce-26ec74a71117"
      },
      "execution_count": 23,
      "outputs": [
        {
          "output_type": "display_data",
          "data": {
            "image/png": "[encoded data removed]",
            "text/plain": [
              "<Figure size 432x288 with 1 Axes>"
            ]
          },
          "metadata": {}
        }
      ]
    },
    {
      "cell_type": "markdown",
      "source": [
        "## Predicted Label Plots"
      ],
      "metadata": {
        "id": "bef-AjlgWAqO"
      }
    },
    {
      "cell_type": "code",
      "source": [
        "## Plot counts for predicted labels\n",
        "\n",
        "misinformation_counts = {}\n",
        "\n",
        "with open(predicted_mc_veracity_fp, 'r') as mc_veracity:\n",
        "\n",
        "  for line in mc_veracity:\n",
        "    t = line.strip().split(',')\n",
        "    mis_label = t[-1]\n",
        "    if mis_label in misinformation_counts:\n",
        "      misinformation_counts[mis_label] += 1\n",
        "    else:\n",
        "      misinformation_counts[mis_label] = 0\n",
        "\n",
        "labels = list(misinformation_counts.keys())\n",
        "vals = [misinformation_counts[x] for x in labels]"
      ],
      "metadata": {
        "id": "FRcfgm-kTzFW"
      },
      "execution_count": null,
      "outputs": []
    },
    {
      "cell_type": "code",
      "source": [
        "sns.set_theme(style=\"whitegrid\")\n",
        "ax = sns.barplot(x=labels, y=vals)\n",
        "ax.set_xticklabels(ax.get_xticklabels(), fontsize=5)\n",
        "ax.set_ylabel(\"Total\", fontsize = 10)\n",
        "\n",
        "fig = ax.get_figure()\n",
        "fig.savefig(f\"{data_analysis_output_dir}/predictions-labels-barplot.png\", dpi=500)"
      ],
      "metadata": {
        "id": "FB3l0OBfUB0W"
      },
      "execution_count": null,
      "outputs": []
    },
    {
      "cell_type": "code",
      "source": [
        "# Only plot relevant labels (no unrelated label)\n",
        "unrelated_idx = labels.index('unrelated')\n",
        "\n",
        "if unrelated_idx != -1:\n",
        "  del labels[unrelated_idx]\n",
        "  del vals[unrelated_idx]"
      ],
      "metadata": {
        "id": "1A_TdDs1Uh24"
      },
      "execution_count": null,
      "outputs": []
    },
    {
      "cell_type": "code",
      "source": [
        "sns.set_theme(style=\"whitegrid\")\n",
        "ax = sns.barplot(x=labels, y=vals)\n",
        "ax.set_xticklabels(ax.get_xticklabels(), fontsize=5)\n",
        "ax.set_ylabel(\"Total\", fontsize = 10)\n",
        "\n",
        "fig = ax.get_figure()\n",
        "fig.savefig(f\"{data_analysis_output_dir}/predictions-no-unrelated-barplot.png\", dpi=500)"
      ],
      "metadata": {
        "id": "LyHV5DMhVPLc"
      },
      "execution_count": null,
      "outputs": []
    },
    {
      "cell_type": "markdown",
      "source": [
        "## Manual Barplots used for Paper"
      ],
      "metadata": {
        "id": "dX5NmeEVWDnJ"
      }
    },
    {
      "cell_type": "code",
      "source": [
        "color = ('orange', 'skyblue', 'crimson', 'dodgerblue')\n",
        "objects = ('Potential Misinformation', 'Potentially True', 'Misinformation', 'True')\n",
        "y_pos = np.arange(len(objects))\n",
        "performance = [643316, 261640, 193457, 88037]\n",
        "width = 0.35  # the width of the bars\n",
        "plt.bar(y_pos, performance, align='center', color=color)\n",
        "plt.xticks(y_pos, objects)\n",
        "plt.ylim(0, 700000)  # this adds a little space at the top of the plot, to compensate for the annotation\n",
        "plt.ylabel('Total', fontsize=12)\n",
        "ax = plt.gca()\n",
        "ax.axes.xaxis.set_visible(False)\n",
        "\n",
        "# map names to colors\n",
        "cmap = dict(zip(performance, color))\n",
        "\n",
        "# create the rectangles for the legend\n",
        "patches = [Patch(color=v, label=k) for k, v in cmap.items()]\n",
        "\n",
        "# add the legend\n",
        "#plt.legend(title='Stance Agreement', labels=objects, handles=patches, bbox_to_anchor=(1.04, 0.5), loc='center left', borderaxespad=0, fontsize=11, frameon=False)\n",
        "plt.legend(labels=objects, handles=patches, bbox_to_anchor=(0.55, 0.75), loc='center left', borderaxespad=0, fontsize=9, frameon=False)\n",
        "\n",
        "# add the annotations\n",
        "for y, x in zip(performance, y_pos):\n",
        "    plt.annotate(f'{y}\\n', xy=(x, y), ha='center', va='center')\n",
        "\n",
        "plt.savefig(f\"{data_analysis_output_dir}/misinformation-barplot-predictions-manuscript.png\", dpi=1000)"
      ],
      "metadata": {
        "colab": {
          "base_uri": "https://localhost:8080/",
          "height": 258
        },
        "id": "8Fv7E_CEWFvG",
        "outputId": "8c23116d-d276-44bc-a72b-9ae4b814b634"
      },
      "execution_count": 14,
      "outputs": [
        {
          "output_type": "display_data",
          "data": {
            "image/png": "[encoded data removed]",
            "text/plain": [
              "<Figure size 432x288 with 1 Axes>"
            ]
          },
          "metadata": {
            "needs_background": "light"
          }
        }
      ]
    },
    {
      "cell_type": "code",
      "source": [
        ""
      ],
      "metadata": {
        "id": "uGSA7JB4WJEm"
      },
      "execution_count": null,
      "outputs": []
    }
  ]
}