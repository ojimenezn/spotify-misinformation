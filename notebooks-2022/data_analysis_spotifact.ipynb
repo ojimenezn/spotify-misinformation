{
  "nbformat": 4,
  "nbformat_minor": 0,
  "metadata": {
    "colab": {
      "name": "data-analysis-spotifact.ipynb",
      "provenance": []
    },
    "kernelspec": {
      "name": "python3",
      "display_name": "Python 3"
    },
    "language_info": {
      "name": "python"
    }
  },
  "cells": [
    {
      "cell_type": "code",
      "execution_count": 1,
      "metadata": {
        "colab": {
          "base_uri": "https://localhost:8080/"
        },
        "id": "cn2th25ujD7i",
        "outputId": "b566ace4-564a-4b84-d886-ff20fa3e13cc"
      },
      "outputs": [
        {
          "output_type": "stream",
          "name": "stdout",
          "text": [
            "Drive already mounted at /drive; to attempt to forcibly remount, call drive.mount(\"/drive\", force_remount=True).\n"
          ]
        }
      ],
      "source": [
        "import numpy as np\n",
        "import pandas as pd\n",
        "from matplotlib import pyplot as plt\n",
        "import seaborn as sns\n",
        "\n",
        "from google.colab import auth\n",
        "from google.auth import default\n",
        "auth.authenticate_user()\n",
        "import gspread\n",
        "from oauth2client.client import GoogleCredentials\n",
        "from google.colab import drive\n",
        "drive.mount('/drive')\n",
        "\n",
        "creds, _ = default()\n",
        "gc = gspread.authorize(creds)"
      ]
    },
    {
      "cell_type": "code",
      "source": [
        "kb_claims_filepath = '/drive/MyDrive/DSN/politifact_filtered_noflips.csv' # for ground truth mapping\n",
        "podcast_claims_filepath = '/drive/MyDrive/spotify-misinformation/preprocessing-output/podcast_claims_context_2_reupload.tsv' # for uri mapping\n",
        "\n",
        "# utility functions to read data\n",
        "claims_df = pd.read_csv(kb_claims_filepath)\n",
        "\n",
        "def df_from_google_sheets(path, columns):\n",
        "\n",
        "  \"\"\"\n",
        "  Get a pandas dataframe object from Google Sheets\n",
        "  \"\"\"\n",
        "\n",
        "  worksheet = gc.open(path).sheet1\n",
        "  rows = worksheet.get_all_values()\n",
        "  rows = [x[:5] for x in rows]\n",
        "\n",
        "  return pd.DataFrame.from_records(rows[1:], columns=columns)\n",
        "\n",
        "def get_full_df(raw_claims_df, labeled_df):\n",
        "\n",
        "  \"\"\"\n",
        "  Retrieve show/episode (URI) metadata from pairs that have been annotated\n",
        "\n",
        "  raw_claims_df: Pandas df object - (larger) dataset containing unmatched claims\n",
        "  labeled_df: Pandas df object - (smaller) dataset with annotated samples\n",
        "  \"\"\"\n",
        "\n",
        "  raw_claims_df = raw_claims_df.reset_index()\n",
        "  labeled_df = labeled_df.reset_index()\n",
        "  raw_claims_df['Stance Agreement'] = -1 # Initialize all as unlabeled, get labels from annotations below\n",
        "\n",
        "  tuples_list = []\n",
        "  for i in range(0,len(labeled_df)):\n",
        "    print(i)\n",
        "    tuple_2d = (labeled_df['Podcast Claim Index'][i], labeled_df['Stance Agreement'][i])\n",
        "    tuples_list.append(tuple_2d)\n",
        "\n",
        "    podcast_idx = tuples_list[i][0]\n",
        "    pair_stance = int(tuples_list[i][1])\n",
        "\n",
        "    # Getting corresponding row\n",
        "    row_idx = raw_claims_df[(raw_claims_df['Podcast Claim Index'] == podcast_idx)].index.tolist()\n",
        "    #row_idx = int(podcast_idx)\n",
        "\n",
        "    raw_claims_df['Stance Agreement'][row_idx] = pair_stance\n",
        "  \n",
        "  return raw_claims_df"
      ],
      "metadata": {
        "id": "c5skSixbjSPE"
      },
      "execution_count": 42,
      "outputs": []
    },
    {
      "cell_type": "markdown",
      "source": [
        "# Importing Labeled Dataset"
      ],
      "metadata": {
        "id": "OEaCXL0tjVV1"
      }
    },
    {
      "cell_type": "code",
      "source": [
        "column_names = ['Fact Checked Claim Index', 'Podcast Claim Index', 'Fact Checked Claim', 'Podcast Claim', 'Stance Agreement']\n",
        "\n",
        "december_labeled_data_path = '/drive/My Drive/spotify-misinformation/labeling-output/manually-labeled-matched-pairs.csv'\n",
        "december_labeled_data = pd.read_csv(december_labeled_data_path)\n",
        "omar_individual = df_from_google_sheets('top_3000_context_2_single_sentence_omar_individual', columns=column_names)\n",
        "omar_individual_data = omar_individual[200:800].copy()\n",
        "jon_individual = df_from_google_sheets('top_3000_context_2_single_sentence_jon_individual', columns=column_names)\n",
        "jon_individual_data = jon_individual[200:800].copy()\n",
        "omar_predictions_data = df_from_google_sheets('spotifact-predictions-labeling-omar', columns=column_names)\n",
        "omar_predictions_data_2 = df_from_google_sheets('spotifact-predictions-labeling-omar-2', columns=column_names)\n",
        "omar_predictions_data_3 = df_from_google_sheets('spotifact-predictions-labeling-omar-3', columns=column_names)\n",
        "omar_predictions_data_retrain = df_from_google_sheets('spotifact-predictions-labeling-omar-retrain', columns=column_names)\n",
        "omar_predictions_partials = df_from_google_sheets('spotifact-predictions-labeling-omar-partials-3k-13k', columns=column_names)\n",
        "\n",
        "frames = [december_labeled_data, omar_individual_data, jon_individual_data, omar_predictions_data, \n",
        "          omar_predictions_data_2, omar_predictions_data_retrain, omar_predictions_partials]\n",
        "\n",
        "total_labeled_data = pd.concat(frames) # Concatenated df with overlap and recent Jon (Omar) and Omar's 2022 labels\n",
        "total_labeled_data[['Stance Agreement']] = total_labeled_data[['Stance Agreement']].astype('int')\n",
        "total_labeled_data = total_labeled_data.drop(total_labeled_data[total_labeled_data['Stance Agreement']==-1].index)\n",
        "total_labeled_data['Stance Agreement'].value_counts()"
      ],
      "metadata": {
        "colab": {
          "base_uri": "https://localhost:8080/"
        },
        "id": "2UDOk3XxjSzD",
        "outputId": "f26969f6-89ec-4755-b708-d543db3b1102"
      },
      "execution_count": 3,
      "outputs": [
        {
          "output_type": "execute_result",
          "data": {
            "text/plain": [
              "5    1987\n",
              "2     499\n",
              "1     220\n",
              "6     159\n",
              "3     151\n",
              "4      89\n",
              "Name: Stance Agreement, dtype: int64"
            ]
          },
          "metadata": {},
          "execution_count": 3
        }
      ]
    },
    {
      "cell_type": "markdown",
      "source": [
        "# Misinformation Analysis"
      ],
      "metadata": {
        "id": "TG58lmGniNdA"
      }
    },
    {
      "cell_type": "code",
      "source": [
        "politifact_df = pd.read_csv(kb_claims_filepath)\n",
        "politifact_df['Fact Checked Claim Index'] = np.arange(len(politifact_df))\n",
        "politifact_df.loc[politifact_df['Label'] == 'true', 'Numeric Label'] = 1\n",
        "politifact_df.loc[politifact_df['Label'] == 'mostly-true', 'Numeric Label'] = 2\n",
        "politifact_df.loc[politifact_df['Label'] == 'half-true', 'Numeric Label'] = 3\n",
        "politifact_df.loc[politifact_df['Label'] == 'barely-true', 'Numeric Label'] = 4\n",
        "politifact_df.loc[politifact_df['Label'] == 'mostly-false', 'Numeric Label'] = 5\n",
        "politifact_df.loc[politifact_df['Label'] == 'false', 'Numeric Label'] = 6\n",
        "politifact_df.loc[politifact_df['Label'] == 'pants-fire', 'Numeric Label'] = 7\n",
        "politifact_df[['Numeric Label']] = politifact_df[['Numeric Label']].astype('int')\n",
        "total_labeled_data[['Stance Agreement']] = total_labeled_data[['Stance Agreement']].astype('int')\n",
        "\n",
        "# Loop over labeled data\n",
        "numeric_labels_list = []\n",
        "for index, row in total_labeled_data.iterrows():\n",
        "\n",
        "   politifact_id = int(row['Fact Checked Claim Index'])\n",
        "   stance_agreement = int(row['Stance Agreement'])\n",
        "   claim_label = politifact_df.at[politifact_df['Fact Checked Claim Index'].eq(politifact_id).idxmax(), 'Numeric Label']\n",
        "   numeric_labels_list.append(claim_label)\n",
        "  \n",
        "   #print(politifact_id, stance_agreement, claim_label, index)\n",
        "\n",
        "total_labeled_data['Numeric Label'] = numeric_labels_list\n",
        "\n",
        "# Create a list of our conditions\n",
        "\n",
        "true_conditions = [\n",
        "    ((total_labeled_data['Numeric Label'] == 1) & (total_labeled_data['Stance Agreement'] == 1)),\n",
        "    ((total_labeled_data['Numeric Label'] == 1) & (total_labeled_data['Stance Agreement'] == 2)),\n",
        "    ((total_labeled_data['Numeric Label'] == 1) & (total_labeled_data['Stance Agreement'] == 3)),\n",
        "    ((total_labeled_data['Numeric Label'] == 1) & (total_labeled_data['Stance Agreement'] == 4)),\n",
        "    ((total_labeled_data['Numeric Label'] == 1) & (total_labeled_data['Stance Agreement'] == 5)),\n",
        "    ((total_labeled_data['Numeric Label'] == 1) & (total_labeled_data['Stance Agreement'] == 6)),\n",
        "    ]\n",
        "\n",
        "mostly_true_conditions = [\n",
        "    ((total_labeled_data['Numeric Label'] == 2) & (total_labeled_data['Stance Agreement'] == 1)),\n",
        "    ((total_labeled_data['Numeric Label'] == 2) & (total_labeled_data['Stance Agreement'] == 2)),\n",
        "    ((total_labeled_data['Numeric Label'] == 2) & (total_labeled_data['Stance Agreement'] == 3)),\n",
        "    ((total_labeled_data['Numeric Label'] == 2) & (total_labeled_data['Stance Agreement'] == 4)),\n",
        "    ((total_labeled_data['Numeric Label'] == 2) & (total_labeled_data['Stance Agreement'] == 5)),\n",
        "    ((total_labeled_data['Numeric Label'] == 2) & (total_labeled_data['Stance Agreement'] == 6)),\n",
        "    ]\n",
        "\n",
        "half_true_conditions = [\n",
        "    ((total_labeled_data['Numeric Label'] == 3) & (total_labeled_data['Stance Agreement'] == 1)),\n",
        "    ((total_labeled_data['Numeric Label'] == 3) & (total_labeled_data['Stance Agreement'] == 2)),\n",
        "    ((total_labeled_data['Numeric Label'] == 3) & (total_labeled_data['Stance Agreement'] == 3)),\n",
        "    ((total_labeled_data['Numeric Label'] == 3) & (total_labeled_data['Stance Agreement'] == 4)),\n",
        "    ((total_labeled_data['Numeric Label'] == 3) & (total_labeled_data['Stance Agreement'] == 5)),\n",
        "    ((total_labeled_data['Numeric Label'] == 3) & (total_labeled_data['Stance Agreement'] == 6)),\n",
        "    ]\n",
        "\n",
        "barely_true_conditions = [\n",
        "    ((total_labeled_data['Numeric Label'] == 4) & (total_labeled_data['Stance Agreement'] == 1)),\n",
        "    ((total_labeled_data['Numeric Label'] == 4) & (total_labeled_data['Stance Agreement'] == 2)),\n",
        "    ((total_labeled_data['Numeric Label'] == 4) & (total_labeled_data['Stance Agreement'] == 3)),\n",
        "    ((total_labeled_data['Numeric Label'] == 4) & (total_labeled_data['Stance Agreement'] == 4)),\n",
        "    ((total_labeled_data['Numeric Label'] == 4) & (total_labeled_data['Stance Agreement'] == 5)),\n",
        "    ((total_labeled_data['Numeric Label'] == 4) & (total_labeled_data['Stance Agreement'] == 6)),\n",
        "    ]\n",
        "\n",
        "mostly_false_conditions = [\n",
        "    ((total_labeled_data['Numeric Label'] == 5) & (total_labeled_data['Stance Agreement'] == 1)),\n",
        "    ((total_labeled_data['Numeric Label'] == 5) & (total_labeled_data['Stance Agreement'] == 2)),\n",
        "    ((total_labeled_data['Numeric Label'] == 5) & (total_labeled_data['Stance Agreement'] == 3)),\n",
        "    ((total_labeled_data['Numeric Label'] == 5) & (total_labeled_data['Stance Agreement'] == 4)),\n",
        "    ((total_labeled_data['Numeric Label'] == 5) & (total_labeled_data['Stance Agreement'] == 5)),\n",
        "    ((total_labeled_data['Numeric Label'] == 5) & (total_labeled_data['Stance Agreement'] == 6)),\n",
        "    ]\n",
        "\n",
        "false_conditions = [\n",
        "    ((total_labeled_data['Numeric Label'] == 6) & (total_labeled_data['Stance Agreement'] == 1)),\n",
        "    ((total_labeled_data['Numeric Label'] == 6) & (total_labeled_data['Stance Agreement'] == 2)),\n",
        "    ((total_labeled_data['Numeric Label'] == 6) & (total_labeled_data['Stance Agreement'] == 3)),\n",
        "    ((total_labeled_data['Numeric Label'] == 6) & (total_labeled_data['Stance Agreement'] == 4)),\n",
        "    ((total_labeled_data['Numeric Label'] == 6) & (total_labeled_data['Stance Agreement'] == 5)),\n",
        "    ((total_labeled_data['Numeric Label'] == 6) & (total_labeled_data['Stance Agreement'] == 6)),\n",
        "    ]\n",
        "\n",
        "pants_fire_conditions = [\n",
        "    ((total_labeled_data['Numeric Label'] == 7) & (total_labeled_data['Stance Agreement'] == 1)),\n",
        "    ((total_labeled_data['Numeric Label'] == 7) & (total_labeled_data['Stance Agreement'] == 2)),\n",
        "    ((total_labeled_data['Numeric Label'] == 7) & (total_labeled_data['Stance Agreement'] == 3)),\n",
        "    ((total_labeled_data['Numeric Label'] == 7) & (total_labeled_data['Stance Agreement'] == 4)),\n",
        "    ((total_labeled_data['Numeric Label'] == 7) & (total_labeled_data['Stance Agreement'] == 5)),\n",
        "    ((total_labeled_data['Numeric Label'] == 7) & (total_labeled_data['Stance Agreement'] == 6)),\n",
        "    ]\n",
        "\n",
        "# Add lists for final condition\n",
        "conditions = true_conditions + mostly_true_conditions + half_true_conditions + barely_true_conditions + mostly_false_conditions + false_conditions + pants_fire_conditions\n",
        "\n",
        "#Create a list of the values we want to assign for each condition\n",
        "true_mapping = ['True', 'Potentially True', 'Misinformation', \n",
        "                'Potential Misinformation', 'Unrelated', 'Inconclusive']\n",
        "mostly_true_mapping = ['True', 'Potentially True', 'Misinformation', \n",
        "                       'Potential Misinformation', 'Unrelated', 'Inconclusive']\n",
        "# HALF-TRUE LABELS ARE TRICKY \n",
        "half_true_mapping = ['Misinformation', 'Potential Misinformation', 'Potential Misinformation', \n",
        "                      'Potential Misinformation', 'Unrelated', 'Inconclusive']\n",
        "# Barely true and mostly false can be the same\n",
        "barely_true_mapping = ['Misinformation', 'Potential Misinformation', 'True', \n",
        "                      'Potentially True', 'Unrelated', 'Inconclusive']                     \n",
        "mostly_false_mapping = ['Misinformation', 'Potential Misinformation', 'True', \n",
        "                      'Potentially True', 'Unrelated', 'Inconclusive']\n",
        "false_mapping = ['Misinformation', 'Potential Misinformation', 'True', \n",
        "                 'Potentially True', 'Unrelated', 'Inconclusive']\n",
        "pants_fire_mapping = ['Misinformation', 'Potential Misinformation', 'True', \n",
        "                 'Potentially True', 'Unrelated', 'Inconclusive']\n",
        "\n",
        "# Add lists for final mapping\n",
        "mappings = true_mapping + mostly_true_mapping + half_true_mapping + barely_true_mapping + mostly_false_mapping + false_mapping + pants_fire_mapping\n",
        "\n",
        "# Create a new column and use np.select to assign values to it using our lists as arguments\n",
        "total_labeled_data['Misinformation Label'] = np.select(conditions, mappings)\n",
        "misinfo_df = total_labeled_data.loc[total_labeled_data['Misinformation Label'] == 'Misinformation']\n",
        "total_labeled_data['Misinformation Label'].value_counts()"
      ],
      "metadata": {
        "colab": {
          "base_uri": "https://localhost:8080/"
        },
        "id": "i3lGO6SEiQLM",
        "outputId": "954fe2e8-f2bf-445d-af89-8874803d8982"
      },
      "execution_count": 4,
      "outputs": [
        {
          "output_type": "execute_result",
          "data": {
            "text/plain": [
              "Unrelated                   1987\n",
              "Potential Misinformation     327\n",
              "Potentially True             268\n",
              "True                         204\n",
              "Misinformation               160\n",
              "Inconclusive                 159\n",
              "Name: Misinformation Label, dtype: int64"
            ]
          },
          "metadata": {},
          "execution_count": 4
        }
      ]
    },
    {
      "cell_type": "code",
      "source": [
        "sns.set_theme(style=\"whitegrid\")\n",
        "ax = sns.barplot(x=total_labeled_data['Misinformation Label'].value_counts().index, y=total_labeled_data['Misinformation Label'].value_counts())\n",
        "ax.set_xticklabels(ax.get_xticklabels(), fontsize=5)\n",
        "ax.set_ylabel(\"Total\", fontsize = 10)\n",
        "\n",
        "fig = ax.get_figure()\n",
        "fig.savefig('/drive/My Drive/misinformation-barplot-2022.png', dpi=500)"
      ],
      "metadata": {
        "colab": {
          "base_uri": "https://localhost:8080/",
          "height": 263
        },
        "id": "AT5F_-zCi-KG",
        "outputId": "4488a59e-78a7-4c01-a7d7-47f30aaa9877"
      },
      "execution_count": 5,
      "outputs": [
        {
          "output_type": "display_data",
          "data": {
            "text/plain": [
              "<Figure size 432x288 with 1 Axes>"
            ],
            "image/png": "[encoded data removed]"
          },
          "metadata": {}
        }
      ]
    },
    {
      "cell_type": "markdown",
      "source": [
        "# Matching labeled data to Metadata (URIs)"
      ],
      "metadata": {
        "id": "9Rip2KVLjc7t"
      }
    },
    {
      "cell_type": "code",
      "source": [
        "raw_claims_df = pd.read_csv('/drive/My Drive/raw-claims-uris.csv')\n",
        "raw_claims_df = raw_claims_df.drop(['Unnamed: 0'], axis=1)\n",
        "raw_claims_df[['Podcast Claim Index']] = raw_claims_df[['Podcast Claim Index']].astype('object')"
      ],
      "metadata": {
        "id": "sdtbUwQejdSp"
      },
      "execution_count": 6,
      "outputs": []
    },
    {
      "cell_type": "code",
      "source": [
        "agreement_df = total_labeled_data.loc[total_labeled_data['Stance Agreement'] == 1]\n",
        "partial_agreement_df = total_labeled_data.loc[total_labeled_data['Stance Agreement'] == 2]\n",
        "disagreement_df = total_labeled_data.loc[total_labeled_data['Stance Agreement'] == 3]\n",
        "partial_disagreement_df = total_labeled_data.loc[total_labeled_data['Stance Agreement'] == 4]\n",
        "total_relev_df = pd.concat([agreement_df,partial_agreement_df,disagreement_df,partial_disagreement_df])"
      ],
      "metadata": {
        "id": "TVfq3NXgWten"
      },
      "execution_count": 7,
      "outputs": []
    },
    {
      "cell_type": "code",
      "source": [
        "full_df_uris = get_full_df(raw_claims_df, misinfo_df)"
      ],
      "metadata": {
        "id": "M71mj7ndluGG"
      },
      "execution_count": null,
      "outputs": []
    },
    {
      "cell_type": "code",
      "source": [
        "full_uris_relev_df = full_df_uris.drop(full_df_uris[full_df_uris['Stance Agreement']==-1].index)\n",
        "#full_uris_relev_df['Show URI'].value_counts()"
      ],
      "metadata": {
        "id": "07SUS8ZZjxaV"
      },
      "execution_count": 19,
      "outputs": []
    },
    {
      "cell_type": "code",
      "source": [
        "full_uris_relev_df['Show URI'].value_counts()"
      ],
      "metadata": {
        "id": "3JltCyZr40Oo"
      },
      "execution_count": null,
      "outputs": []
    },
    {
      "cell_type": "code",
      "source": [
        "full_uris_relev_df['Stance Agreement'].value_counts()"
      ],
      "metadata": {
        "colab": {
          "base_uri": "https://localhost:8080/"
        },
        "id": "lzMVek1Z1dia",
        "outputId": "c70b9993-6e46-453a-a067-6fbe7a6f065c"
      },
      "execution_count": 21,
      "outputs": [
        {
          "output_type": "execute_result",
          "data": {
            "text/plain": [
              "1    45\n",
              "3     1\n",
              "Name: Stance Agreement, dtype: int64"
            ]
          },
          "metadata": {},
          "execution_count": 21
        }
      ]
    },
    {
      "cell_type": "markdown",
      "source": [
        "# Misinformation Per Podcast"
      ],
      "metadata": {
        "id": "57OyIh9ilPwj"
      }
    },
    {
      "cell_type": "markdown",
      "source": [
        "###### This notebook is a bit RAM intensive so to not read the metadata file (which is also large) I simply looked up the Podcast show names with the URI in the metadata"
      ],
      "metadata": {
        "id": "yKYMJ7at4Wa9"
      }
    },
    {
      "cell_type": "code",
      "source": [
        "full_uris_relev_df.loc[full_uris_relev_df['Show URI'] == 'show_2FqT7bkuLecryBNkApjABK']"
      ],
      "metadata": {
        "colab": {
          "base_uri": "https://localhost:8080/",
          "height": 111
        },
        "id": "jBvTuhOWqcHU",
        "outputId": "59f12b44-1cbe-44e0-de7b-ada5985c9e0e"
      },
      "execution_count": 22,
      "outputs": [
        {
          "output_type": "execute_result",
          "data": {
            "text/plain": [
              "             index                     Show URI             Episode URI  \\\n",
              "10020231  10020231  show_2FqT7bkuLecryBNkApjABK  6Yyk708JYzmIYpyDDIZbP9   \n",
              "10020306  10020306  show_2FqT7bkuLecryBNkApjABK  6Yyk708JYzmIYpyDDIZbP9   \n",
              "\n",
              "                                                      Claim  \\\n",
              "10020231   When I say well, why would you think that he ...   \n",
              "10020306   It could have been created like that. That's ...   \n",
              "\n",
              "         Podcast Claim Index  Stance Agreement  \n",
              "10020231            10020231                 1  \n",
              "10020306            10020306                 1  "
            ],
            "text/html": [
              "\n",
              "  <div id=\"df-e25ef535-cd8b-4366-8f74-724faebc51c7\">\n",
              "    <div class=\"colab-df-container\">\n",
              "      <div>\n",
              "<style scoped>\n",
              "    .dataframe tbody tr th:only-of-type {\n",
              "        vertical-align: middle;\n",
              "    }\n",
              "\n",
              "    .dataframe tbody tr th {\n",
              "        vertical-align: top;\n",
              "    }\n",
              "\n",
              "    .dataframe thead th {\n",
              "        text-align: right;\n",
              "    }\n",
              "</style>\n",
              "<table border=\"1\" class=\"dataframe\">\n",
              "  <thead>\n",
              "    <tr style=\"text-align: right;\">\n",
              "      <th></th>\n",
              "      <th>index</th>\n",
              "      <th>Show URI</th>\n",
              "      <th>Episode URI</th>\n",
              "      <th>Claim</th>\n",
              "      <th>Podcast Claim Index</th>\n",
              "      <th>Stance Agreement</th>\n",
              "    </tr>\n",
              "  </thead>\n",
              "  <tbody>\n",
              "    <tr>\n",
              "      <th>10020231</th>\n",
              "      <td>10020231</td>\n",
              "      <td>show_2FqT7bkuLecryBNkApjABK</td>\n",
              "      <td>6Yyk708JYzmIYpyDDIZbP9</td>\n",
              "      <td>When I say well, why would you think that he ...</td>\n",
              "      <td>10020231</td>\n",
              "      <td>1</td>\n",
              "    </tr>\n",
              "    <tr>\n",
              "      <th>10020306</th>\n",
              "      <td>10020306</td>\n",
              "      <td>show_2FqT7bkuLecryBNkApjABK</td>\n",
              "      <td>6Yyk708JYzmIYpyDDIZbP9</td>\n",
              "      <td>It could have been created like that. That's ...</td>\n",
              "      <td>10020306</td>\n",
              "      <td>1</td>\n",
              "    </tr>\n",
              "  </tbody>\n",
              "</table>\n",
              "</div>\n",
              "      <button class=\"colab-df-convert\" onclick=\"convertToInteractive('df-e25ef535-cd8b-4366-8f74-724faebc51c7')\"\n",
              "              title=\"Convert this dataframe to an interactive table.\"\n",
              "              style=\"display:none;\">\n",
              "        \n",
              "  <svg xmlns=\"http://www.w3.org/2000/svg\" height=\"24px\"viewBox=\"0 0 24 24\"\n",
              "       width=\"24px\">\n",
              "    <path d=\"M0 0h24v24H0V0z\" fill=\"none\"/>\n",
              "    <path d=\"M18.56 5.44l.94 2.06.94-2.06 2.06-.94-2.06-.94-.94-2.06-.94 2.06-2.06.94zm-11 1L8.5 8.5l.94-2.06 2.06-.94-2.06-.94L8.5 2.5l-.94 2.06-2.06.94zm10 10l.94 2.06.94-2.06 2.06-.94-2.06-.94-.94-2.06-.94 2.06-2.06.94z\"/><path d=\"M17.41 7.96l-1.37-1.37c-.4-.4-.92-.59-1.43-.59-.52 0-1.04.2-1.43.59L10.3 9.45l-7.72 7.72c-.78.78-.78 2.05 0 2.83L4 21.41c.39.39.9.59 1.41.59.51 0 1.02-.2 1.41-.59l7.78-7.78 2.81-2.81c.8-.78.8-2.07 0-2.86zM5.41 20L4 18.59l7.72-7.72 1.47 1.35L5.41 20z\"/>\n",
              "  </svg>\n",
              "      </button>\n",
              "      \n",
              "  <style>\n",
              "    .colab-df-container {\n",
              "      display:flex;\n",
              "      flex-wrap:wrap;\n",
              "      gap: 12px;\n",
              "    }\n",
              "\n",
              "    .colab-df-convert {\n",
              "      background-color: #E8F0FE;\n",
              "      border: none;\n",
              "      border-radius: 50%;\n",
              "      cursor: pointer;\n",
              "      display: none;\n",
              "      fill: #1967D2;\n",
              "      height: 32px;\n",
              "      padding: 0 0 0 0;\n",
              "      width: 32px;\n",
              "    }\n",
              "\n",
              "    .colab-df-convert:hover {\n",
              "      background-color: #E2EBFA;\n",
              "      box-shadow: 0px 1px 2px rgba(60, 64, 67, 0.3), 0px 1px 3px 1px rgba(60, 64, 67, 0.15);\n",
              "      fill: #174EA6;\n",
              "    }\n",
              "\n",
              "    [theme=dark] .colab-df-convert {\n",
              "      background-color: #3B4455;\n",
              "      fill: #D2E3FC;\n",
              "    }\n",
              "\n",
              "    [theme=dark] .colab-df-convert:hover {\n",
              "      background-color: #434B5C;\n",
              "      box-shadow: 0px 1px 3px 1px rgba(0, 0, 0, 0.15);\n",
              "      filter: drop-shadow(0px 1px 2px rgba(0, 0, 0, 0.3));\n",
              "      fill: #FFFFFF;\n",
              "    }\n",
              "  </style>\n",
              "\n",
              "      <script>\n",
              "        const buttonEl =\n",
              "          document.querySelector('#df-e25ef535-cd8b-4366-8f74-724faebc51c7 button.colab-df-convert');\n",
              "        buttonEl.style.display =\n",
              "          google.colab.kernel.accessAllowed ? 'block' : 'none';\n",
              "\n",
              "        async function convertToInteractive(key) {\n",
              "          const element = document.querySelector('#df-e25ef535-cd8b-4366-8f74-724faebc51c7');\n",
              "          const dataTable =\n",
              "            await google.colab.kernel.invokeFunction('convertToInteractive',\n",
              "                                                     [key], {});\n",
              "          if (!dataTable) return;\n",
              "\n",
              "          const docLinkHtml = 'Like what you see? Visit the ' +\n",
              "            '<a target=\"_blank\" href=https://colab.research.google.com/notebooks/data_table.ipynb>data table notebook</a>'\n",
              "            + ' to learn more about interactive tables.';\n",
              "          element.innerHTML = '';\n",
              "          dataTable['output_type'] = 'display_data';\n",
              "          await google.colab.output.renderOutput(dataTable, element);\n",
              "          const docLink = document.createElement('div');\n",
              "          docLink.innerHTML = docLinkHtml;\n",
              "          element.appendChild(docLink);\n",
              "        }\n",
              "      </script>\n",
              "    </div>\n",
              "  </div>\n",
              "  "
            ]
          },
          "metadata": {},
          "execution_count": 22
        }
      ]
    },
    {
      "cell_type": "code",
      "source": [
        "misinfo_df.loc[misinfo_df['Podcast Claim Index'] == 5968532]"
      ],
      "metadata": {
        "colab": {
          "base_uri": "https://localhost:8080/",
          "height": 158
        },
        "id": "3Ondho-EvmWk",
        "outputId": "a58ca6c2-7473-4f11-eea8-09897b540753"
      },
      "execution_count": 26,
      "outputs": [
        {
          "output_type": "execute_result",
          "data": {
            "text/plain": [
              "    Fact Checked Claim Index Podcast Claim Index  \\\n",
              "990                     4330             5968532   \n",
              "\n",
              "                                    Fact Checked Claim  \\\n",
              "990  \"In America today, women on average are paid 8...   \n",
              "\n",
              "                                         Podcast Claim  Stance Agreement  \\\n",
              "990   We've been talking about this and talking abo...                 1   \n",
              "\n",
              "     Numeric Label Misinformation Label  \n",
              "990              4       Misinformation  "
            ],
            "text/html": [
              "\n",
              "  <div id=\"df-6df47d26-eb1a-4f07-9a63-b5b45a215f4d\">\n",
              "    <div class=\"colab-df-container\">\n",
              "      <div>\n",
              "<style scoped>\n",
              "    .dataframe tbody tr th:only-of-type {\n",
              "        vertical-align: middle;\n",
              "    }\n",
              "\n",
              "    .dataframe tbody tr th {\n",
              "        vertical-align: top;\n",
              "    }\n",
              "\n",
              "    .dataframe thead th {\n",
              "        text-align: right;\n",
              "    }\n",
              "</style>\n",
              "<table border=\"1\" class=\"dataframe\">\n",
              "  <thead>\n",
              "    <tr style=\"text-align: right;\">\n",
              "      <th></th>\n",
              "      <th>Fact Checked Claim Index</th>\n",
              "      <th>Podcast Claim Index</th>\n",
              "      <th>Fact Checked Claim</th>\n",
              "      <th>Podcast Claim</th>\n",
              "      <th>Stance Agreement</th>\n",
              "      <th>Numeric Label</th>\n",
              "      <th>Misinformation Label</th>\n",
              "    </tr>\n",
              "  </thead>\n",
              "  <tbody>\n",
              "    <tr>\n",
              "      <th>990</th>\n",
              "      <td>4330</td>\n",
              "      <td>5968532</td>\n",
              "      <td>\"In America today, women on average are paid 8...</td>\n",
              "      <td>We've been talking about this and talking abo...</td>\n",
              "      <td>1</td>\n",
              "      <td>4</td>\n",
              "      <td>Misinformation</td>\n",
              "    </tr>\n",
              "  </tbody>\n",
              "</table>\n",
              "</div>\n",
              "      <button class=\"colab-df-convert\" onclick=\"convertToInteractive('df-6df47d26-eb1a-4f07-9a63-b5b45a215f4d')\"\n",
              "              title=\"Convert this dataframe to an interactive table.\"\n",
              "              style=\"display:none;\">\n",
              "        \n",
              "  <svg xmlns=\"http://www.w3.org/2000/svg\" height=\"24px\"viewBox=\"0 0 24 24\"\n",
              "       width=\"24px\">\n",
              "    <path d=\"M0 0h24v24H0V0z\" fill=\"none\"/>\n",
              "    <path d=\"M18.56 5.44l.94 2.06.94-2.06 2.06-.94-2.06-.94-.94-2.06-.94 2.06-2.06.94zm-11 1L8.5 8.5l.94-2.06 2.06-.94-2.06-.94L8.5 2.5l-.94 2.06-2.06.94zm10 10l.94 2.06.94-2.06 2.06-.94-2.06-.94-.94-2.06-.94 2.06-2.06.94z\"/><path d=\"M17.41 7.96l-1.37-1.37c-.4-.4-.92-.59-1.43-.59-.52 0-1.04.2-1.43.59L10.3 9.45l-7.72 7.72c-.78.78-.78 2.05 0 2.83L4 21.41c.39.39.9.59 1.41.59.51 0 1.02-.2 1.41-.59l7.78-7.78 2.81-2.81c.8-.78.8-2.07 0-2.86zM5.41 20L4 18.59l7.72-7.72 1.47 1.35L5.41 20z\"/>\n",
              "  </svg>\n",
              "      </button>\n",
              "      \n",
              "  <style>\n",
              "    .colab-df-container {\n",
              "      display:flex;\n",
              "      flex-wrap:wrap;\n",
              "      gap: 12px;\n",
              "    }\n",
              "\n",
              "    .colab-df-convert {\n",
              "      background-color: #E8F0FE;\n",
              "      border: none;\n",
              "      border-radius: 50%;\n",
              "      cursor: pointer;\n",
              "      display: none;\n",
              "      fill: #1967D2;\n",
              "      height: 32px;\n",
              "      padding: 0 0 0 0;\n",
              "      width: 32px;\n",
              "    }\n",
              "\n",
              "    .colab-df-convert:hover {\n",
              "      background-color: #E2EBFA;\n",
              "      box-shadow: 0px 1px 2px rgba(60, 64, 67, 0.3), 0px 1px 3px 1px rgba(60, 64, 67, 0.15);\n",
              "      fill: #174EA6;\n",
              "    }\n",
              "\n",
              "    [theme=dark] .colab-df-convert {\n",
              "      background-color: #3B4455;\n",
              "      fill: #D2E3FC;\n",
              "    }\n",
              "\n",
              "    [theme=dark] .colab-df-convert:hover {\n",
              "      background-color: #434B5C;\n",
              "      box-shadow: 0px 1px 3px 1px rgba(0, 0, 0, 0.15);\n",
              "      filter: drop-shadow(0px 1px 2px rgba(0, 0, 0, 0.3));\n",
              "      fill: #FFFFFF;\n",
              "    }\n",
              "  </style>\n",
              "\n",
              "      <script>\n",
              "        const buttonEl =\n",
              "          document.querySelector('#df-6df47d26-eb1a-4f07-9a63-b5b45a215f4d button.colab-df-convert');\n",
              "        buttonEl.style.display =\n",
              "          google.colab.kernel.accessAllowed ? 'block' : 'none';\n",
              "\n",
              "        async function convertToInteractive(key) {\n",
              "          const element = document.querySelector('#df-6df47d26-eb1a-4f07-9a63-b5b45a215f4d');\n",
              "          const dataTable =\n",
              "            await google.colab.kernel.invokeFunction('convertToInteractive',\n",
              "                                                     [key], {});\n",
              "          if (!dataTable) return;\n",
              "\n",
              "          const docLinkHtml = 'Like what you see? Visit the ' +\n",
              "            '<a target=\"_blank\" href=https://colab.research.google.com/notebooks/data_table.ipynb>data table notebook</a>'\n",
              "            + ' to learn more about interactive tables.';\n",
              "          element.innerHTML = '';\n",
              "          dataTable['output_type'] = 'display_data';\n",
              "          await google.colab.output.renderOutput(dataTable, element);\n",
              "          const docLink = document.createElement('div');\n",
              "          docLink.innerHTML = docLinkHtml;\n",
              "          element.appendChild(docLink);\n",
              "        }\n",
              "      </script>\n",
              "    </div>\n",
              "  </div>\n",
              "  "
            ]
          },
          "metadata": {},
          "execution_count": 26
        }
      ]
    },
    {
      "cell_type": "code",
      "source": [
        "sns.set_theme(style=\"whitegrid\")\n",
        "uris_count = full_uris_relev_df['Show URI'].value_counts()\n",
        "ax = sns.barplot(x=uris_count[uris_count>1][0:5].index, y=uris_count[uris_count>1][0:5])\n",
        "ax.set_xticklabels(ax.get_xticklabels(), fontsize=6)\n",
        "ax.set_ylabel(\"Total False Claims\", fontsize = 10)\n",
        "plt.ylim(0, 3)\n",
        "\n",
        "fig = ax.get_figure()\n",
        "fig.savefig('/drive/My Drive/misinformation-pp-barplot-2022.png', dpi=500)"
      ],
      "metadata": {
        "colab": {
          "base_uri": "https://localhost:8080/",
          "height": 268
        },
        "id": "s7V-U74ClTH6",
        "outputId": "b4d27cc8-b29e-4d2f-961e-afaa46594118"
      },
      "execution_count": 38,
      "outputs": [
        {
          "output_type": "display_data",
          "data": {
            "text/plain": [
              "<Figure size 432x288 with 1 Axes>"
            ],
            "image/png": "[encoded data removed]"
          },
          "metadata": {}
        }
      ]
    }
  ]
}